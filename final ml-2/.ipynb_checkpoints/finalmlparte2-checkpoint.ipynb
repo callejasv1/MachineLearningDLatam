{
 "cells": [
  {
   "cell_type": "markdown",
   "metadata": {},
   "source": [
    "# Parte 2"
   ]
  },
  {
   "cell_type": "markdown",
   "metadata": {},
   "source": [
    "En esta ocasión trabajaremos con datos públicos del departamento de policía de New York. El dataset es llamado stop_and_frisk_data y contiene información sobre interrogaciones y detenciones realizadas por le departamento de policia de NY en la vía pública. El diccionario de atributos se encuentra en el archivo 2009 SQF File Spec.xlsx . \n",
    "\n",
    "Para todo nuestro estudio utilizaremos los datos correspondientes al año 2009 como conjunto de entrenamiento y los datos del 2010 como conjunto de pruebas. Hay que hacer notar que los datos que estamos utilizando son un muestreo del   de la cantidad de registros reales que contiene el dataset, esta decisión fue tomada debido a los largos tiempos de entrenamiento y procesamiento que requiere el volumén de datos reales. \n",
    "- Crea una carpeta de trabajo y guarda todos los archivos correspondientes (notebook, archivos auxiliares y csv).\n",
    "- Una vez terminada la prueba, comprime la carpeta y sube el .zip a la sección correspondiente."
   ]
  },
  {
   "cell_type": "markdown",
   "metadata": {},
   "source": [
    "Dado la gran cantidad de atributos, se le entrega un script preproc_nyc_sqf.py que normaliza la cantidad de atributos. Haga uso de la función create_suitable_dataframe para igualar el benchmark de los atributos"
   ]
  },
  {
   "cell_type": "code",
   "execution_count": 134,
   "metadata": {},
   "outputs": [],
   "source": [
    "import pandas as pd\n",
    "import numpy as np\n",
    "import matplotlib.pyplot as plt\n",
    "import seaborn as sns\n",
    "import preproc_nyc_sqf as preproc\n",
    "import warnings\n",
    "warnings.filterwarnings('ignore')\n",
    "from pygam import LogisticGAM\n",
    "from sklearn.preprocessing import StandardScaler\n",
    "from sklearn.tree import DecisionTreeClassifier\n",
    "import pickle\n",
    "from sklearn.metrics import classification_report\n",
    "from sklearn.model_selection import GridSearchCV\n",
    "from sklearn.linear_model import LogisticRegression\n",
    "from sklearn.ensemble import AdaBoostClassifier\n",
    "from sklearn.ensemble import RandomForestClassifier\n",
    "from sklearn.model_selection import RandomizedSearchCV\n",
    "from sklearn.ensemble import VotingClassifier\n",
    "\n"
   ]
  },
  {
   "cell_type": "code",
   "execution_count": 135,
   "metadata": {},
   "outputs": [
    {
     "data": {
      "text/html": [
       "<div>\n",
       "<style scoped>\n",
       "    .dataframe tbody tr th:only-of-type {\n",
       "        vertical-align: middle;\n",
       "    }\n",
       "\n",
       "    .dataframe tbody tr th {\n",
       "        vertical-align: top;\n",
       "    }\n",
       "\n",
       "    .dataframe thead th {\n",
       "        text-align: right;\n",
       "    }\n",
       "</style>\n",
       "<table border=\"1\" class=\"dataframe\">\n",
       "  <thead>\n",
       "    <tr style=\"text-align: right;\">\n",
       "      <th></th>\n",
       "      <th>year</th>\n",
       "      <th>pct</th>\n",
       "      <th>ser_num</th>\n",
       "      <th>datestop</th>\n",
       "      <th>timestop</th>\n",
       "      <th>recstat</th>\n",
       "      <th>inout</th>\n",
       "      <th>trhsloc</th>\n",
       "      <th>perobs</th>\n",
       "      <th>crimsusp</th>\n",
       "      <th>...</th>\n",
       "      <th>zip</th>\n",
       "      <th>addrpct</th>\n",
       "      <th>sector</th>\n",
       "      <th>beat</th>\n",
       "      <th>post</th>\n",
       "      <th>xcoord</th>\n",
       "      <th>ycoord</th>\n",
       "      <th>dettypcm</th>\n",
       "      <th>linecm</th>\n",
       "      <th>detailcm</th>\n",
       "    </tr>\n",
       "  </thead>\n",
       "  <tbody>\n",
       "    <tr>\n",
       "      <th>0</th>\n",
       "      <td>2009</td>\n",
       "      <td>41</td>\n",
       "      <td>1779</td>\n",
       "      <td>4032009</td>\n",
       "      <td>130</td>\n",
       "      <td>A</td>\n",
       "      <td>O</td>\n",
       "      <td>P</td>\n",
       "      <td>1.0</td>\n",
       "      <td>CPW</td>\n",
       "      <td>...</td>\n",
       "      <td></td>\n",
       "      <td>41</td>\n",
       "      <td>G</td>\n",
       "      <td>7</td>\n",
       "      <td></td>\n",
       "      <td>1013067</td>\n",
       "      <td>0238633</td>\n",
       "      <td>CM</td>\n",
       "      <td>1</td>\n",
       "      <td>20</td>\n",
       "    </tr>\n",
       "    <tr>\n",
       "      <th>1</th>\n",
       "      <td>2009</td>\n",
       "      <td>108</td>\n",
       "      <td>5805</td>\n",
       "      <td>10292009</td>\n",
       "      <td>1050</td>\n",
       "      <td>A</td>\n",
       "      <td>O</td>\n",
       "      <td>P</td>\n",
       "      <td>3.0</td>\n",
       "      <td>BURG</td>\n",
       "      <td>...</td>\n",
       "      <td></td>\n",
       "      <td>108</td>\n",
       "      <td>J</td>\n",
       "      <td></td>\n",
       "      <td></td>\n",
       "      <td>1012043</td>\n",
       "      <td>0212157</td>\n",
       "      <td>CM</td>\n",
       "      <td>1</td>\n",
       "      <td>14</td>\n",
       "    </tr>\n",
       "    <tr>\n",
       "      <th>2</th>\n",
       "      <td>2009</td>\n",
       "      <td>43</td>\n",
       "      <td>8340</td>\n",
       "      <td>10062009</td>\n",
       "      <td>1450</td>\n",
       "      <td>1</td>\n",
       "      <td>O</td>\n",
       "      <td>P</td>\n",
       "      <td>1.0</td>\n",
       "      <td>MISD</td>\n",
       "      <td>...</td>\n",
       "      <td></td>\n",
       "      <td>43</td>\n",
       "      <td>E</td>\n",
       "      <td></td>\n",
       "      <td></td>\n",
       "      <td>1017599</td>\n",
       "      <td>0240200</td>\n",
       "      <td>CM</td>\n",
       "      <td>1</td>\n",
       "      <td>20</td>\n",
       "    </tr>\n",
       "    <tr>\n",
       "      <th>3</th>\n",
       "      <td>2009</td>\n",
       "      <td>77</td>\n",
       "      <td>932</td>\n",
       "      <td>1232009</td>\n",
       "      <td>1843</td>\n",
       "      <td>A</td>\n",
       "      <td>O</td>\n",
       "      <td>P</td>\n",
       "      <td>5.0</td>\n",
       "      <td>MIS</td>\n",
       "      <td>...</td>\n",
       "      <td></td>\n",
       "      <td>77</td>\n",
       "      <td>J</td>\n",
       "      <td>4</td>\n",
       "      <td>35</td>\n",
       "      <td>1002625</td>\n",
       "      <td>0183442</td>\n",
       "      <td>CM</td>\n",
       "      <td>1</td>\n",
       "      <td>24</td>\n",
       "    </tr>\n",
       "    <tr>\n",
       "      <th>4</th>\n",
       "      <td>2009</td>\n",
       "      <td>110</td>\n",
       "      <td>11224</td>\n",
       "      <td>12132009</td>\n",
       "      <td>1655</td>\n",
       "      <td>A</td>\n",
       "      <td>O</td>\n",
       "      <td>P</td>\n",
       "      <td>3.0</td>\n",
       "      <td>CPW</td>\n",
       "      <td>...</td>\n",
       "      <td></td>\n",
       "      <td>110</td>\n",
       "      <td>H</td>\n",
       "      <td></td>\n",
       "      <td></td>\n",
       "      <td>1024535</td>\n",
       "      <td>0209890</td>\n",
       "      <td>CM</td>\n",
       "      <td>1</td>\n",
       "      <td>20</td>\n",
       "    </tr>\n",
       "  </tbody>\n",
       "</table>\n",
       "<p>5 rows × 111 columns</p>\n",
       "</div>"
      ],
      "text/plain": [
       "   year  pct  ser_num  datestop  timestop recstat inout trhsloc  perobs  \\\n",
       "0  2009   41     1779   4032009       130       A     O       P     1.0   \n",
       "1  2009  108     5805  10292009      1050       A     O       P     3.0   \n",
       "2  2009   43     8340  10062009      1450       1     O       P     1.0   \n",
       "3  2009   77      932   1232009      1843       A     O       P     5.0   \n",
       "4  2009  110    11224  12132009      1655       A     O       P     3.0   \n",
       "\n",
       "  crimsusp  ...  zip addrpct sector beat post   xcoord   ycoord dettypcm  \\\n",
       "0      CPW  ...           41      G    7       1013067  0238633       CM   \n",
       "1     BURG  ...          108      J            1012043  0212157       CM   \n",
       "2     MISD  ...           43      E            1017599  0240200       CM   \n",
       "3      MIS  ...           77      J    4   35  1002625  0183442       CM   \n",
       "4      CPW  ...          110      H            1024535  0209890       CM   \n",
       "\n",
       "   linecm  detailcm  \n",
       "0       1        20  \n",
       "1       1        14  \n",
       "2       1        20  \n",
       "3       1        24  \n",
       "4       1        20  \n",
       "\n",
       "[5 rows x 111 columns]"
      ]
     },
     "execution_count": 135,
     "metadata": {},
     "output_type": "execute_result"
    }
   ],
   "source": [
    "df = pd.read_csv('2009_1perc.csv').drop(columns='Unnamed: 0')\n",
    "df.head()"
   ]
  },
  {
   "cell_type": "code",
   "execution_count": 136,
   "metadata": {},
   "outputs": [
    {
     "data": {
      "text/html": [
       "<div>\n",
       "<style scoped>\n",
       "    .dataframe tbody tr th:only-of-type {\n",
       "        vertical-align: middle;\n",
       "    }\n",
       "\n",
       "    .dataframe tbody tr th {\n",
       "        vertical-align: top;\n",
       "    }\n",
       "\n",
       "    .dataframe thead th {\n",
       "        text-align: right;\n",
       "    }\n",
       "</style>\n",
       "<table border=\"1\" class=\"dataframe\">\n",
       "  <thead>\n",
       "    <tr style=\"text-align: right;\">\n",
       "      <th></th>\n",
       "      <th>year</th>\n",
       "      <th>pct</th>\n",
       "      <th>ser_num</th>\n",
       "      <th>datestop</th>\n",
       "      <th>timestop</th>\n",
       "      <th>recstat</th>\n",
       "      <th>inout</th>\n",
       "      <th>trhsloc</th>\n",
       "      <th>perobs</th>\n",
       "      <th>crimsusp</th>\n",
       "      <th>...</th>\n",
       "      <th>zip</th>\n",
       "      <th>addrpct</th>\n",
       "      <th>sector</th>\n",
       "      <th>beat</th>\n",
       "      <th>post</th>\n",
       "      <th>xcoord</th>\n",
       "      <th>ycoord</th>\n",
       "      <th>dettypcm</th>\n",
       "      <th>linecm</th>\n",
       "      <th>detailcm</th>\n",
       "    </tr>\n",
       "  </thead>\n",
       "  <tbody>\n",
       "    <tr>\n",
       "      <th>0</th>\n",
       "      <td>2010</td>\n",
       "      <td>6</td>\n",
       "      <td>487</td>\n",
       "      <td>1192010</td>\n",
       "      <td>1420</td>\n",
       "      <td>1</td>\n",
       "      <td>O</td>\n",
       "      <td>P</td>\n",
       "      <td>2</td>\n",
       "      <td>FEL</td>\n",
       "      <td>...</td>\n",
       "      <td></td>\n",
       "      <td>6</td>\n",
       "      <td>G</td>\n",
       "      <td></td>\n",
       "      <td>38</td>\n",
       "      <td>983543</td>\n",
       "      <td>208767</td>\n",
       "      <td>CM</td>\n",
       "      <td>1</td>\n",
       "      <td>85</td>\n",
       "    </tr>\n",
       "    <tr>\n",
       "      <th>1</th>\n",
       "      <td>2010</td>\n",
       "      <td>42</td>\n",
       "      <td>7138</td>\n",
       "      <td>9042010</td>\n",
       "      <td>225</td>\n",
       "      <td>1</td>\n",
       "      <td>I</td>\n",
       "      <td>T</td>\n",
       "      <td>10</td>\n",
       "      <td>FELONY</td>\n",
       "      <td>...</td>\n",
       "      <td></td>\n",
       "      <td>42</td>\n",
       "      <td>E</td>\n",
       "      <td></td>\n",
       "      <td></td>\n",
       "      <td>1014172</td>\n",
       "      <td>241737</td>\n",
       "      <td>CM</td>\n",
       "      <td>1</td>\n",
       "      <td>45</td>\n",
       "    </tr>\n",
       "    <tr>\n",
       "      <th>2</th>\n",
       "      <td>2010</td>\n",
       "      <td>33</td>\n",
       "      <td>2628</td>\n",
       "      <td>6302010</td>\n",
       "      <td>1240</td>\n",
       "      <td>1</td>\n",
       "      <td>I</td>\n",
       "      <td>T</td>\n",
       "      <td>5</td>\n",
       "      <td>ROBBERY</td>\n",
       "      <td>...</td>\n",
       "      <td></td>\n",
       "      <td>33</td>\n",
       "      <td>B</td>\n",
       "      <td>6</td>\n",
       "      <td></td>\n",
       "      <td>1000916</td>\n",
       "      <td>245710</td>\n",
       "      <td>CM</td>\n",
       "      <td>1</td>\n",
       "      <td>85</td>\n",
       "    </tr>\n",
       "    <tr>\n",
       "      <th>3</th>\n",
       "      <td>2010</td>\n",
       "      <td>108</td>\n",
       "      <td>6384</td>\n",
       "      <td>11172010</td>\n",
       "      <td>2338</td>\n",
       "      <td>1</td>\n",
       "      <td>O</td>\n",
       "      <td>P</td>\n",
       "      <td>3</td>\n",
       "      <td>CSCS</td>\n",
       "      <td>...</td>\n",
       "      <td></td>\n",
       "      <td>108</td>\n",
       "      <td>J</td>\n",
       "      <td></td>\n",
       "      <td></td>\n",
       "      <td>1012612</td>\n",
       "      <td>212240</td>\n",
       "      <td>CM</td>\n",
       "      <td>1</td>\n",
       "      <td>28</td>\n",
       "    </tr>\n",
       "    <tr>\n",
       "      <th>4</th>\n",
       "      <td>2010</td>\n",
       "      <td>14</td>\n",
       "      <td>2295</td>\n",
       "      <td>3072010</td>\n",
       "      <td>2240</td>\n",
       "      <td>1</td>\n",
       "      <td>I</td>\n",
       "      <td>T</td>\n",
       "      <td>5</td>\n",
       "      <td>MISD/ CPW</td>\n",
       "      <td>...</td>\n",
       "      <td></td>\n",
       "      <td>14</td>\n",
       "      <td>C</td>\n",
       "      <td>7</td>\n",
       "      <td></td>\n",
       "      <td>987636</td>\n",
       "      <td>212439</td>\n",
       "      <td>CM</td>\n",
       "      <td>1</td>\n",
       "      <td>20</td>\n",
       "    </tr>\n",
       "  </tbody>\n",
       "</table>\n",
       "<p>5 rows × 111 columns</p>\n",
       "</div>"
      ],
      "text/plain": [
       "   year  pct  ser_num  datestop  timestop recstat inout trhsloc  perobs  \\\n",
       "0  2010    6      487   1192010      1420       1     O       P       2   \n",
       "1  2010   42     7138   9042010       225       1     I       T      10   \n",
       "2  2010   33     2628   6302010      1240       1     I       T       5   \n",
       "3  2010  108     6384  11172010      2338       1     O       P       3   \n",
       "4  2010   14     2295   3072010      2240       1     I       T       5   \n",
       "\n",
       "    crimsusp  ...  zip addrpct sector beat post   xcoord  ycoord dettypcm  \\\n",
       "0        FEL  ...            6      G        38   983543  208767       CM   \n",
       "1     FELONY  ...           42      E            1014172  241737       CM   \n",
       "2    ROBBERY  ...           33      B    6       1000916  245710       CM   \n",
       "3       CSCS  ...          108      J            1012612  212240       CM   \n",
       "4  MISD/ CPW  ...           14      C    7        987636  212439       CM   \n",
       "\n",
       "   linecm  detailcm  \n",
       "0       1        85  \n",
       "1       1        45  \n",
       "2       1        85  \n",
       "3       1        28  \n",
       "4       1        20  \n",
       "\n",
       "[5 rows x 111 columns]"
      ]
     },
     "execution_count": 136,
     "metadata": {},
     "output_type": "execute_result"
    }
   ],
   "source": [
    "df_test = pd.read_csv('2010_1perc.csv').drop(columns='Unnamed: 0')\n",
    "df_test.head()"
   ]
  },
  {
   "cell_type": "code",
   "execution_count": 137,
   "metadata": {},
   "outputs": [
    {
     "name": "stdout",
     "output_type": "stream",
     "text": [
      "['year', 'pct', 'ser_num', 'datestop', 'timestop', 'perstop', 'compyear', 'comppct', 'repcmd', 'revcmd', 'dob', 'age', 'ht_feet', 'ht_inch', 'weight', 'perobs']\n"
     ]
    }
   ],
   "source": [
    "df_concat = pd.concat([df,df_test])\n",
    "df_concat.columns\n",
    "\n",
    "df_concat.replace('STATEN ISLAND','STATEN IS',inplace=True) # tienen distinta codificación en los datasets\n",
    "\n",
    "df_proces,_,_ = preproc.create_suitable_dataframe(df_concat)\n",
    "df_suitable= pd.DataFrame(df_proces)\n",
    "\n"
   ]
  },
  {
   "cell_type": "code",
   "execution_count": 138,
   "metadata": {},
   "outputs": [
    {
     "data": {
      "image/png": "[encoded data removed]",
      "text/plain": [
       "<Figure size 432x288 with 1 Axes>"
      ]
     },
     "metadata": {
      "needs_background": "light"
     },
     "output_type": "display_data"
    },
    {
     "data": {
      "image/png": "[encoded data removed]",
      "text/plain": [
       "<Figure size 432x288 with 1 Axes>"
      ]
     },
     "metadata": {
      "needs_background": "light"
     },
     "output_type": "display_data"
    },
    {
     "data": {
      "image/png": "[encoded data removed]",
      "text/plain": [
       "<Figure size 432x288 with 1 Axes>"
      ]
     },
     "metadata": {
      "needs_background": "light"
     },
     "output_type": "display_data"
    },
    {
     "data": {
      "image/png": "[encoded data removed]",
      "text/plain": [
       "<Figure size 432x288 with 1 Axes>"
      ]
     },
     "metadata": {
      "needs_background": "light"
     },
     "output_type": "display_data"
    },
    {
     "data": {
      "image/png": "[encoded data removed]",
      "text/plain": [
       "<Figure size 432x288 with 1 Axes>"
      ]
     },
     "metadata": {
      "needs_background": "light"
     },
     "output_type": "display_data"
    },
    {
     "data": {
      "image/png": "[encoded data removed]",
      "text/plain": [
       "<Figure size 432x288 with 1 Axes>"
      ]
     },
     "metadata": {
      "needs_background": "light"
     },
     "output_type": "display_data"
    },
    {
     "data": {
      "image/png": "[encoded data removed]",
      "text/plain": [
       "<Figure size 432x288 with 1 Axes>"
      ]
     },
     "metadata": {
      "needs_background": "light"
     },
     "output_type": "display_data"
    },
    {
     "data": {
      "image/png": "[encoded data removed]",
      "text/plain": [
       "<Figure size 432x288 with 1 Axes>"
      ]
     },
     "metadata": {
      "needs_background": "light"
     },
     "output_type": "display_data"
    },
    {
     "data": {
      "image/png": "[encoded data removed]",
      "text/plain": [
       "<Figure size 432x288 with 1 Axes>"
      ]
     },
     "metadata": {
      "needs_background": "light"
     },
     "output_type": "display_data"
    },
    {
     "data": {
      "image/png": "[encoded data removed]",
      "text/plain": [
       "<Figure size 432x288 with 1 Axes>"
      ]
     },
     "metadata": {
      "needs_background": "light"
     },
     "output_type": "display_data"
    },
    {
     "data": {
      "image/png": "[encoded data removed]",
      "text/plain": [
       "<Figure size 432x288 with 1 Axes>"
      ]
     },
     "metadata": {
      "needs_background": "light"
     },
     "output_type": "display_data"
    },
    {
     "data": {
      "image/png": "[encoded data removed]",
      "text/plain": [
       "<Figure size 432x288 with 1 Axes>"
      ]
     },
     "metadata": {
      "needs_background": "light"
     },
     "output_type": "display_data"
    },
    {
     "data": {
      "image/png": "[encoded data removed]",
      "text/plain": [
       "<Figure size 432x288 with 1 Axes>"
      ]
     },
     "metadata": {
      "needs_background": "light"
     },
     "output_type": "display_data"
    },
    {
     "data": {
      "image/png": "[encoded data removed]",
      "text/plain": [
       "<Figure size 432x288 with 1 Axes>"
      ]
     },
     "metadata": {
      "needs_background": "light"
     },
     "output_type": "display_data"
    },
    {
     "data": {
      "image/png": "[encoded data removed]",
      "text/plain": [
       "<Figure size 432x288 with 1 Axes>"
      ]
     },
     "metadata": {
      "needs_background": "light"
     },
     "output_type": "display_data"
    },
    {
     "data": {
      "image/png": "[encoded data removed]",
      "text/plain": [
       "<Figure size 432x288 with 1 Axes>"
      ]
     },
     "metadata": {
      "needs_background": "light"
     },
     "output_type": "display_data"
    },
    {
     "data": {
      "image/png": "[encoded data removed]",
      "text/plain": [
       "<Figure size 432x288 with 1 Axes>"
      ]
     },
     "metadata": {
      "needs_background": "light"
     },
     "output_type": "display_data"
    },
    {
     "data": {
      "image/png": "[encoded data removed]",
      "text/plain": [
       "<Figure size 432x288 with 1 Axes>"
      ]
     },
     "metadata": {
      "needs_background": "light"
     },
     "output_type": "display_data"
    }
   ],
   "source": [
    "for i in df_suitable.select_dtypes(include=[np.number]).columns:\n",
    "    plt.figure()\n",
    "    plt.title(i)\n",
    "    sns.distplot(df_suitable[i])"
   ]
  },
  {
   "cell_type": "markdown",
   "metadata": {},
   "source": [
    "Las variables se comportan todas de maneras no convencionales, encontrando algunos outliers en las variables 'weight' (*le habrán hecho una detención a un camión??*) y 'perstop'"
   ]
  },
  {
   "cell_type": "code",
   "execution_count": 139,
   "metadata": {},
   "outputs": [
    {
     "data": {
      "text/plain": [
       "'for i in df_suitable.columns:\\n    if df_suitable[i].value_counts().size > 1:\\n        print(i)\\n        print(df_suitable[i].value_counts(normalize=False))\\n        print()'"
      ]
     },
     "execution_count": 139,
     "metadata": {},
     "output_type": "execute_result"
    }
   ],
   "source": [
    "\"\"\"for i in df_suitable.columns:\n",
    "    if df_suitable[i].value_counts().size > 1:\n",
    "        print(i)\n",
    "        print(df_suitable[i].value_counts(normalize=False))\n",
    "        print()\"\"\""
   ]
  },
  {
   "cell_type": "code",
   "execution_count": 140,
   "metadata": {},
   "outputs": [
    {
     "name": "stdout",
     "output_type": "stream",
     "text": [
      "beat\n",
      "U       0.631035\n",
      "9       0.034957\n",
      "1       0.027497\n",
      "7       0.025791\n",
      "4       0.023447\n",
      "2       0.023234\n",
      "10      0.021528\n",
      "5       0.019503\n",
      "8       0.019503\n",
      "11      0.018224\n",
      "6       0.016093\n",
      "3       0.015667\n",
      "13      0.012256\n",
      "12      0.010871\n",
      "16      0.008419\n",
      "15      0.008419\n",
      "14      0.007460\n",
      "17      0.005329\n",
      "   9    0.004370\n",
      "   1    0.004263\n",
      "   3    0.003837\n",
      "24      0.003624\n",
      "   2    0.003624\n",
      "18      0.003517\n",
      "22      0.003410\n",
      "   7    0.003304\n",
      "19      0.003197\n",
      "  10    0.003091\n",
      "  12    0.002771\n",
      "   4    0.002771\n",
      "          ...   \n",
      "   8    0.002238\n",
      "  11    0.002238\n",
      "20      0.002132\n",
      "23      0.001599\n",
      "62      0.001385\n",
      "  14    0.001279\n",
      "21      0.001279\n",
      "  16    0.001066\n",
      "  15    0.000959\n",
      "61      0.000853\n",
      "  19    0.000853\n",
      "25      0.000853\n",
      "  17    0.000746\n",
      "  18    0.000639\n",
      "  22    0.000533\n",
      "41      0.000533\n",
      "42      0.000426\n",
      "  24    0.000426\n",
      "  21    0.000320\n",
      "  20    0.000320\n",
      "  41    0.000213\n",
      "  23    0.000213\n",
      "28      0.000213\n",
      "  61    0.000107\n",
      "  25    0.000107\n",
      "32      0.000107\n",
      "  42    0.000107\n",
      "30      0.000107\n",
      "26      0.000107\n",
      "  62    0.000107\n",
      "Name: beat, Length: 63, dtype: float64\n",
      "\n",
      "linecm\n",
      "1    0.505915\n",
      "1    0.494085\n",
      "Name: linecm, dtype: float64\n",
      "\n"
     ]
    }
   ],
   "source": [
    "for i in ['beat','linecm']:\n",
    "    \n",
    "    print(i)\n",
    "    print(df_suitable[i].value_counts(normalize=True))\n",
    "    print()"
   ]
  },
  {
   "cell_type": "markdown",
   "metadata": {},
   "source": [
    "Eliminamos la variable beat, dado que contiene un numero alto de observaciones sin clasificar ( 60%). Y las variables addrtyp, dettypcm, compyear, comppct que tienen una sola clase"
   ]
  },
  {
   "cell_type": "code",
   "execution_count": 141,
   "metadata": {},
   "outputs": [],
   "source": [
    "df_suitable.drop(columns=['beat','addrtyp','dettypcm','compyear','comppct','linecm'],inplace=True)"
   ]
  },
  {
   "cell_type": "code",
   "execution_count": 142,
   "metadata": {},
   "outputs": [],
   "source": [
    "objetos = df_suitable.select_dtypes('object').columns\n",
    "df_recoded = pd.get_dummies(data=df_suitable, columns=objetos, drop_first=True, prefix=objetos)"
   ]
  },
  {
   "cell_type": "markdown",
   "metadata": {},
   "source": [
    "Una vez procesado el DF dividimos en train y test!"
   ]
  },
  {
   "cell_type": "code",
   "execution_count": 143,
   "metadata": {},
   "outputs": [],
   "source": [
    "df_train = df_recoded.query(\"year==2009\")\n",
    "df_test = df_recoded.query(\"year==2010\")"
   ]
  },
  {
   "cell_type": "code",
   "execution_count": 144,
   "metadata": {},
   "outputs": [],
   "source": [
    "X_train = df_train.drop(columns='arstmade_Y')\n",
    "y_train = df_train['arstmade_Y']\n",
    "X_test = df_test.drop(columns='arstmade_Y')\n",
    "y_test = df_test['arstmade_Y']\n",
    "\n",
    "\n",
    "\n"
   ]
  },
  {
   "cell_type": "code",
   "execution_count": 145,
   "metadata": {},
   "outputs": [
    {
     "data": {
      "text/plain": [
       "<matplotlib.axes._subplots.AxesSubplot at 0x12589ecf8>"
      ]
     },
     "execution_count": 145,
     "metadata": {},
     "output_type": "execute_result"
    },
    {
     "data": {
      "image/png": "[encoded data removed]",
      "text/plain": [
       "<Figure size 432x288 with 1 Axes>"
      ]
     },
     "metadata": {
      "needs_background": "light"
     },
     "output_type": "display_data"
    }
   ],
   "source": [
    "sns.countplot(df_train['arstmade_Y'])"
   ]
  },
  {
   "cell_type": "markdown",
   "metadata": {},
   "source": [
    "**Hay un claro desbalance en los datos, habiendo pocos arrestos. Se tendrá esto en cuenta en caso de que los proyectos tengan problemas en predecir la clase \"1\". De ser asi, habria que aplicar un metodo que nos permita balancear estas clases.\n",
    "Nos fijaremos particularmente en el f1 score y el accuracy, pero principalmente de la clase 1, ya que dado el problema, tenemos un desbalance en esa clase**"
   ]
  },
  {
   "cell_type": "markdown",
   "metadata": {},
   "source": [
    "Generar un modelo predictivo que condicional a las características medidas del sospechoso, prediga si un determinado procedimiento concluirá en un arresto o no. \n",
    "Para ello, guíase por los siguentes lineamientos:\n",
    "- Entrene por lo menos 1 modelo que sea capaz de predecir si se producirá un arresto o no. Una vez que encuentre un modelo satisfactorio, reporte al menos dos métricas de desempeño.\n",
    "- Refine aquellos atributos relevantes. Encuentre por lo menos 30 atributos que explique la importancia relativa y ordénelos por orden de importancia.\n",
    "- Finalmente, reporte la probabilidad que un individuo sea arrestado en uno de los cinco barrios, condicional al género y condicional a la raza."
   ]
  },
  {
   "cell_type": "markdown",
   "metadata": {},
   "source": [
    "Para no realizar mayores cambios en el DataFrame, generamos un arbol de decision que no se ve afectado por las distintas escalas"
   ]
  },
  {
   "cell_type": "code",
   "execution_count": 146,
   "metadata": {},
   "outputs": [],
   "source": [
    "dec_tree_grid_cv = GridSearchCV(DecisionTreeClassifier(),\n",
    "                                    # evaluamos 10 escenarios\n",
    "                                   {\n",
    "                                       'min_samples_split': np.linspace(0.1, 1.0, 5),\n",
    "                                   'max_features': np.linspace(1,X_train.shape[1],5, dtype='int')},\n",
    "                                # Con 5 validaciones cruzadas\n",
    "                                cv=5, scoring='f1_macro',\n",
    "                                # Ocupando todos los núcleos del computador\n",
    "                                n_jobs=-1).fit(X_train, y_train)"
   ]
  },
  {
   "cell_type": "code",
   "execution_count": 147,
   "metadata": {},
   "outputs": [
    {
     "data": {
      "text/plain": [
       "DecisionTreeClassifier(class_weight=None, criterion='gini', max_depth=None,\n",
       "            max_features=136, max_leaf_nodes=None,\n",
       "            min_impurity_decrease=0.0, min_impurity_split=None,\n",
       "            min_samples_leaf=1, min_samples_split=0.55,\n",
       "            min_weight_fraction_leaf=0.0, presort=False, random_state=None,\n",
       "            splitter='best')"
      ]
     },
     "execution_count": 147,
     "metadata": {},
     "output_type": "execute_result"
    }
   ],
   "source": [
    "dec_tree_grid_cv.best_estimator_"
   ]
  },
  {
   "cell_type": "code",
   "execution_count": 148,
   "metadata": {},
   "outputs": [
    {
     "name": "stdout",
     "output_type": "stream",
     "text": [
      "              precision    recall  f1-score   support\n",
      "\n",
      "           0       0.97      0.99      0.98      4438\n",
      "           1       0.78      0.60      0.68       309\n",
      "\n",
      "   micro avg       0.96      0.96      0.96      4747\n",
      "   macro avg       0.88      0.79      0.83      4747\n",
      "weighted avg       0.96      0.96      0.96      4747\n",
      "\n"
     ]
    }
   ],
   "source": [
    "\n",
    "y_hat = dec_tree_grid_cv.best_estimator_.predict(X_test)\n",
    "print(classification_report(y_test, y_hat))"
   ]
  },
  {
   "cell_type": "markdown",
   "metadata": {},
   "source": [
    "Para mejorar los resultados, aplicamos oversampling para balancear las clases"
   ]
  },
  {
   "cell_type": "code",
   "execution_count": 149,
   "metadata": {},
   "outputs": [],
   "source": [
    "from imblearn.over_sampling import SMOTE"
   ]
  },
  {
   "cell_type": "code",
   "execution_count": 150,
   "metadata": {},
   "outputs": [
    {
     "data": {
      "text/html": [
       "<div>\n",
       "<style scoped>\n",
       "    .dataframe tbody tr th:only-of-type {\n",
       "        vertical-align: middle;\n",
       "    }\n",
       "\n",
       "    .dataframe tbody tr th {\n",
       "        vertical-align: top;\n",
       "    }\n",
       "\n",
       "    .dataframe thead th {\n",
       "        text-align: right;\n",
       "    }\n",
       "</style>\n",
       "<table border=\"1\" class=\"dataframe\">\n",
       "  <thead>\n",
       "    <tr style=\"text-align: right;\">\n",
       "      <th></th>\n",
       "      <th>month</th>\n",
       "      <th>meters</th>\n",
       "      <th>year</th>\n",
       "      <th>pct</th>\n",
       "      <th>ser_num</th>\n",
       "      <th>datestop</th>\n",
       "      <th>timestop</th>\n",
       "      <th>perstop</th>\n",
       "      <th>repcmd</th>\n",
       "      <th>revcmd</th>\n",
       "      <th>...</th>\n",
       "      <th>sector_J</th>\n",
       "      <th>sector_K</th>\n",
       "      <th>sector_M</th>\n",
       "      <th>sector_N</th>\n",
       "      <th>sector_P</th>\n",
       "      <th>sector_Q</th>\n",
       "      <th>sector_R</th>\n",
       "      <th>sector_T</th>\n",
       "      <th>sector_U</th>\n",
       "      <th>arstmade_Y</th>\n",
       "    </tr>\n",
       "  </thead>\n",
       "  <tbody>\n",
       "    <tr>\n",
       "      <th>0</th>\n",
       "      <td>4.0</td>\n",
       "      <td>1.798320</td>\n",
       "      <td>2009.0</td>\n",
       "      <td>41.0</td>\n",
       "      <td>1779.0</td>\n",
       "      <td>4032009.0</td>\n",
       "      <td>130.0</td>\n",
       "      <td>2.0</td>\n",
       "      <td>41.0</td>\n",
       "      <td>41.0</td>\n",
       "      <td>...</td>\n",
       "      <td>0.0</td>\n",
       "      <td>0.0</td>\n",
       "      <td>0.0</td>\n",
       "      <td>0.0</td>\n",
       "      <td>0.0</td>\n",
       "      <td>0.0</td>\n",
       "      <td>0.0</td>\n",
       "      <td>0.0</td>\n",
       "      <td>0.0</td>\n",
       "      <td>0</td>\n",
       "    </tr>\n",
       "    <tr>\n",
       "      <th>1</th>\n",
       "      <td>10.0</td>\n",
       "      <td>1.920240</td>\n",
       "      <td>2009.0</td>\n",
       "      <td>43.0</td>\n",
       "      <td>8340.0</td>\n",
       "      <td>10062009.0</td>\n",
       "      <td>1450.0</td>\n",
       "      <td>1.0</td>\n",
       "      <td>43.0</td>\n",
       "      <td>43.0</td>\n",
       "      <td>...</td>\n",
       "      <td>0.0</td>\n",
       "      <td>0.0</td>\n",
       "      <td>0.0</td>\n",
       "      <td>0.0</td>\n",
       "      <td>0.0</td>\n",
       "      <td>0.0</td>\n",
       "      <td>0.0</td>\n",
       "      <td>0.0</td>\n",
       "      <td>0.0</td>\n",
       "      <td>0</td>\n",
       "    </tr>\n",
       "    <tr>\n",
       "      <th>2</th>\n",
       "      <td>12.0</td>\n",
       "      <td>1.676400</td>\n",
       "      <td>2009.0</td>\n",
       "      <td>77.0</td>\n",
       "      <td>932.0</td>\n",
       "      <td>1232009.0</td>\n",
       "      <td>1843.0</td>\n",
       "      <td>5.0</td>\n",
       "      <td>77.0</td>\n",
       "      <td>77.0</td>\n",
       "      <td>...</td>\n",
       "      <td>1.0</td>\n",
       "      <td>0.0</td>\n",
       "      <td>0.0</td>\n",
       "      <td>0.0</td>\n",
       "      <td>0.0</td>\n",
       "      <td>0.0</td>\n",
       "      <td>0.0</td>\n",
       "      <td>0.0</td>\n",
       "      <td>0.0</td>\n",
       "      <td>0</td>\n",
       "    </tr>\n",
       "    <tr>\n",
       "      <th>3</th>\n",
       "      <td>5.0</td>\n",
       "      <td>1.767840</td>\n",
       "      <td>2009.0</td>\n",
       "      <td>14.0</td>\n",
       "      <td>5194.0</td>\n",
       "      <td>5222009.0</td>\n",
       "      <td>2039.0</td>\n",
       "      <td>1.0</td>\n",
       "      <td>861.0</td>\n",
       "      <td>861.0</td>\n",
       "      <td>...</td>\n",
       "      <td>0.0</td>\n",
       "      <td>0.0</td>\n",
       "      <td>0.0</td>\n",
       "      <td>0.0</td>\n",
       "      <td>0.0</td>\n",
       "      <td>0.0</td>\n",
       "      <td>0.0</td>\n",
       "      <td>0.0</td>\n",
       "      <td>0.0</td>\n",
       "      <td>0</td>\n",
       "    </tr>\n",
       "    <tr>\n",
       "      <th>4</th>\n",
       "      <td>11.0</td>\n",
       "      <td>1.557528</td>\n",
       "      <td>2009.0</td>\n",
       "      <td>67.0</td>\n",
       "      <td>11758.0</td>\n",
       "      <td>11242009.0</td>\n",
       "      <td>109.0</td>\n",
       "      <td>5.0</td>\n",
       "      <td>176.0</td>\n",
       "      <td>67.0</td>\n",
       "      <td>...</td>\n",
       "      <td>0.0</td>\n",
       "      <td>0.0</td>\n",
       "      <td>0.0</td>\n",
       "      <td>1.0</td>\n",
       "      <td>0.0</td>\n",
       "      <td>0.0</td>\n",
       "      <td>0.0</td>\n",
       "      <td>0.0</td>\n",
       "      <td>0.0</td>\n",
       "      <td>0</td>\n",
       "    </tr>\n",
       "  </tbody>\n",
       "</table>\n",
       "<p>5 rows × 137 columns</p>\n",
       "</div>"
      ],
      "text/plain": [
       "   month    meters    year   pct  ser_num    datestop  timestop  perstop  \\\n",
       "0    4.0  1.798320  2009.0  41.0   1779.0   4032009.0     130.0      2.0   \n",
       "1   10.0  1.920240  2009.0  43.0   8340.0  10062009.0    1450.0      1.0   \n",
       "2   12.0  1.676400  2009.0  77.0    932.0   1232009.0    1843.0      5.0   \n",
       "3    5.0  1.767840  2009.0  14.0   5194.0   5222009.0    2039.0      1.0   \n",
       "4   11.0  1.557528  2009.0  67.0  11758.0  11242009.0     109.0      5.0   \n",
       "\n",
       "   repcmd  revcmd  ...  sector_J  sector_K  sector_M  sector_N  sector_P  \\\n",
       "0    41.0    41.0  ...       0.0       0.0       0.0       0.0       0.0   \n",
       "1    43.0    43.0  ...       0.0       0.0       0.0       0.0       0.0   \n",
       "2    77.0    77.0  ...       1.0       0.0       0.0       0.0       0.0   \n",
       "3   861.0   861.0  ...       0.0       0.0       0.0       0.0       0.0   \n",
       "4   176.0    67.0  ...       0.0       0.0       0.0       1.0       0.0   \n",
       "\n",
       "   sector_Q  sector_R  sector_T  sector_U  arstmade_Y  \n",
       "0       0.0       0.0       0.0       0.0           0  \n",
       "1       0.0       0.0       0.0       0.0           0  \n",
       "2       0.0       0.0       0.0       0.0           0  \n",
       "3       0.0       0.0       0.0       0.0           0  \n",
       "4       0.0       0.0       0.0       0.0           0  \n",
       "\n",
       "[5 rows x 137 columns]"
      ]
     },
     "execution_count": 150,
     "metadata": {},
     "output_type": "execute_result"
    }
   ],
   "source": [
    "oversampler = SMOTE(random_state=1234, ratio='minority')\n",
    "X_train_oversamp, y_train_oversamp = oversampler.fit_sample(X_train, y_train)\n",
    "\n",
    "df_train_oversamp = pd.DataFrame(X_train_oversamp)\n",
    "df_train_oversamp.columns = X_train.columns\n",
    "df_train_oversamp['arstmade_Y']= y_train_oversamp\n",
    "df_train_oversamp.head()"
   ]
  },
  {
   "cell_type": "code",
   "execution_count": 151,
   "metadata": {},
   "outputs": [
    {
     "name": "stdout",
     "output_type": "stream",
     "text": [
      "              precision    recall  f1-score   support\n",
      "\n",
      "           0       0.97      0.97      0.97      4438\n",
      "           1       0.56      0.57      0.56       309\n",
      "\n",
      "   micro avg       0.94      0.94      0.94      4747\n",
      "   macro avg       0.76      0.77      0.77      4747\n",
      "weighted avg       0.94      0.94      0.94      4747\n",
      "\n"
     ]
    }
   ],
   "source": [
    "dtc = DecisionTreeClassifier()\n",
    "\n",
    "dtc.fit(X_train_oversamp, y_train_oversamp)\n",
    "\n",
    "y_hat = dtc.predict(X_test)\n",
    "print(classification_report(y_test, y_hat))"
   ]
  },
  {
   "cell_type": "code",
   "execution_count": 152,
   "metadata": {},
   "outputs": [],
   "source": [
    "\n",
    "dec_tree_grid_cv = GridSearchCV(DecisionTreeClassifier(),\n",
    "                                    # evaluamos 10 escenarios\n",
    "                                   {'min_samples_split': np.linspace(0.1, 1.0, 10),\n",
    "                                   'max_features': np.linspace(1,X_train_oversamp.shape[1],5, dtype='int')},\n",
    "                                # Con 5 validaciones cruzadas\n",
    "                                cv=5, scoring='f1_macro',\n",
    "                                # Ocupando todos los núcleos del computador\n",
    "                                n_jobs=-1).fit(X_train_oversamp, y_train_oversamp)"
   ]
  },
  {
   "cell_type": "code",
   "execution_count": 153,
   "metadata": {},
   "outputs": [
    {
     "name": "stdout",
     "output_type": "stream",
     "text": [
      "              precision    recall  f1-score   support\n",
      "\n",
      "           0       0.97      0.98      0.98      4438\n",
      "           1       0.70      0.60      0.65       309\n",
      "\n",
      "   micro avg       0.96      0.96      0.96      4747\n",
      "   macro avg       0.83      0.79      0.81      4747\n",
      "weighted avg       0.95      0.96      0.96      4747\n",
      "\n"
     ]
    }
   ],
   "source": [
    "y_hat = dec_tree_grid_cv.best_estimator_.predict(X_test)\n",
    "print(classification_report(y_test, y_hat))"
   ]
  },
  {
   "cell_type": "markdown",
   "metadata": {},
   "source": [
    "### No se obtienen mejores resultados con oversampling, se vuelve al dataset original"
   ]
  },
  {
   "cell_type": "code",
   "execution_count": 154,
   "metadata": {},
   "outputs": [],
   "source": [
    "dec_tree_grid_cv = GridSearchCV(DecisionTreeClassifier(),\n",
    "                                    # evaluamos 10 escenarios\n",
    "                                   {\n",
    "                                       'min_samples_split': np.linspace(0.1, 1.0, 5),\n",
    "                                   'max_features': np.linspace(1,X_train.shape[1],5, dtype='int')},\n",
    "                                # Con 5 validaciones cruzadas\n",
    "                                cv=5, scoring='f1_macro',\n",
    "                                # Ocupando todos los núcleos del computador\n",
    "                                n_jobs=-1).fit(X_train, y_train)"
   ]
  },
  {
   "cell_type": "code",
   "execution_count": 155,
   "metadata": {},
   "outputs": [
    {
     "name": "stdout",
     "output_type": "stream",
     "text": [
      "              precision    recall  f1-score   support\n",
      "\n",
      "           0       0.97      0.99      0.98      4438\n",
      "           1       0.76      0.60      0.67       309\n",
      "\n",
      "   micro avg       0.96      0.96      0.96      4747\n",
      "   macro avg       0.87      0.79      0.82      4747\n",
      "weighted avg       0.96      0.96      0.96      4747\n",
      "\n"
     ]
    }
   ],
   "source": [
    "y_hat = dec_tree_grid_cv.best_estimator_.predict(X_test)\n",
    "print(classification_report(y_test, y_hat))"
   ]
  },
  {
   "cell_type": "code",
   "execution_count": 160,
   "metadata": {},
   "outputs": [],
   "source": [
    "y_hat = dec_tree_grid_cv.best_estimator_.predict(df_recoded.drop(columns='arstmade_Y'))\n",
    "df_group = df_suitable.copy(deep=True)\n",
    "df_group['prob'] = y_hat"
   ]
  },
  {
   "cell_type": "code",
   "execution_count": 217,
   "metadata": {},
   "outputs": [
    {
     "name": "stdout",
     "output_type": "stream",
     "text": [
      "29       frisked_Y\n",
      "7           repcmd\n",
      "8           revcmd\n",
      "30      searched_Y\n",
      "24       othpers_Y\n",
      "25      arstmade_Y\n",
      "2              pct\n",
      "26      sumissue_Y\n",
      "6          perstop\n",
      "119       sector_J\n",
      "118       sector_I\n",
      "1           meters\n",
      "105        build_U\n",
      "37      pf_ptwep_Y\n",
      "11         ht_feet\n",
      "46      cs_descr_Y\n",
      "50      cs_cloth_Y\n",
      "14          perobs\n",
      "13          weight\n",
      "52      ac_evasv_Y\n",
      "10             age\n",
      "5         timestop\n",
      "12         ht_inch\n",
      "9              dob\n",
      "96     eyecolor_GR\n",
      "93     eyecolor_BL\n",
      "94     eyecolor_BR\n",
      "95     eyecolor_DF\n",
      "80          race_U\n",
      "91     haircolr_XX\n",
      "Name: atributos, dtype: object\n"
     ]
    }
   ],
   "source": [
    "importance = dec_tree_grid_cv.best_estimator_.feature_importances_\n",
    "sort_importance = np.argsort(importance)[::-1]\n",
    "\n",
    "importancia = pd.DataFrame(importance)\n",
    "\n",
    "importancia['atributos'] = X_train.columns.T\n",
    "importancia.columns=('importancia','atributos')\n",
    "df_30 = importancia.sort_values(by='importancia',ascending=False).head(30)\n",
    "atributos_30 = importancia.sort_values(by='importancia',ascending=False).head(30)['atributos']\n",
    "print(atributos_30)\n"
   ]
  },
  {
   "cell_type": "code",
   "execution_count": 216,
   "metadata": {},
   "outputs": [
    {
     "data": {
      "text/plain": [
       "<matplotlib.axes._subplots.AxesSubplot at 0x1351967b8>"
      ]
     },
     "execution_count": 216,
     "metadata": {},
     "output_type": "execute_result"
    },
    {
     "data": {
      "image/png": "[encoded data removed]",
      "text/plain": [
       "<Figure size 432x288 with 1 Axes>"
      ]
     },
     "metadata": {
      "needs_background": "light"
     },
     "output_type": "display_data"
    }
   ],
   "source": [
    "sns.barplot(data=df_30, x='importancia', y='atributos')"
   ]
  },
  {
   "cell_type": "markdown",
   "metadata": {},
   "source": [
    "Interesante que el color de pelo importa, la raza tambien es determinante. Refinamos nuestro modelo "
   ]
  },
  {
   "cell_type": "code",
   "execution_count": 218,
   "metadata": {},
   "outputs": [
    {
     "data": {
      "text/html": [
       "<div>\n",
       "<style scoped>\n",
       "    .dataframe tbody tr th:only-of-type {\n",
       "        vertical-align: middle;\n",
       "    }\n",
       "\n",
       "    .dataframe tbody tr th {\n",
       "        vertical-align: top;\n",
       "    }\n",
       "\n",
       "    .dataframe thead th {\n",
       "        text-align: right;\n",
       "    }\n",
       "</style>\n",
       "<table border=\"1\" class=\"dataframe\">\n",
       "  <thead>\n",
       "    <tr style=\"text-align: right;\">\n",
       "      <th></th>\n",
       "      <th>frisked_Y</th>\n",
       "      <th>repcmd</th>\n",
       "      <th>revcmd</th>\n",
       "      <th>searched_Y</th>\n",
       "      <th>othpers_Y</th>\n",
       "      <th>arstmade_Y</th>\n",
       "      <th>pct</th>\n",
       "      <th>sumissue_Y</th>\n",
       "      <th>perstop</th>\n",
       "      <th>sector_J</th>\n",
       "      <th>...</th>\n",
       "      <th>age</th>\n",
       "      <th>timestop</th>\n",
       "      <th>ht_inch</th>\n",
       "      <th>dob</th>\n",
       "      <th>eyecolor_GR</th>\n",
       "      <th>eyecolor_BL</th>\n",
       "      <th>eyecolor_BR</th>\n",
       "      <th>eyecolor_DF</th>\n",
       "      <th>race_U</th>\n",
       "      <th>haircolr_XX</th>\n",
       "    </tr>\n",
       "  </thead>\n",
       "  <tbody>\n",
       "    <tr>\n",
       "      <th>0</th>\n",
       "      <td>-1.10301</td>\n",
       "      <td>-0.684887</td>\n",
       "      <td>-0.667992</td>\n",
       "      <td>-0.307173</td>\n",
       "      <td>-0.46311</td>\n",
       "      <td>-0.259034</td>\n",
       "      <td>-0.801449</td>\n",
       "      <td>-0.279967</td>\n",
       "      <td>-0.340142</td>\n",
       "      <td>-0.247114</td>\n",
       "      <td>...</td>\n",
       "      <td>-0.622164</td>\n",
       "      <td>-1.650849</td>\n",
       "      <td>0.756412</td>\n",
       "      <td>-0.055223</td>\n",
       "      <td>-0.081558</td>\n",
       "      <td>-0.130872</td>\n",
       "      <td>0.341309</td>\n",
       "      <td>-0.027324</td>\n",
       "      <td>-0.082872</td>\n",
       "      <td>-0.072454</td>\n",
       "    </tr>\n",
       "    <tr>\n",
       "      <th>1</th>\n",
       "      <td>0.90661</td>\n",
       "      <td>-0.678208</td>\n",
       "      <td>-0.661347</td>\n",
       "      <td>-0.307173</td>\n",
       "      <td>-0.46311</td>\n",
       "      <td>-0.259034</td>\n",
       "      <td>-0.742101</td>\n",
       "      <td>-0.279967</td>\n",
       "      <td>-0.434144</td>\n",
       "      <td>-0.247114</td>\n",
       "      <td>...</td>\n",
       "      <td>-0.889241</td>\n",
       "      <td>0.086627</td>\n",
       "      <td>-0.971504</td>\n",
       "      <td>-0.076671</td>\n",
       "      <td>-0.081558</td>\n",
       "      <td>-0.130872</td>\n",
       "      <td>0.341309</td>\n",
       "      <td>-0.027324</td>\n",
       "      <td>-0.082872</td>\n",
       "      <td>-0.072454</td>\n",
       "    </tr>\n",
       "    <tr>\n",
       "      <th>2</th>\n",
       "      <td>-1.10301</td>\n",
       "      <td>-0.564672</td>\n",
       "      <td>-0.548382</td>\n",
       "      <td>-0.307173</td>\n",
       "      <td>-0.46311</td>\n",
       "      <td>-0.259034</td>\n",
       "      <td>0.266808</td>\n",
       "      <td>-0.279967</td>\n",
       "      <td>-0.058136</td>\n",
       "      <td>4.046718</td>\n",
       "      <td>...</td>\n",
       "      <td>-0.800216</td>\n",
       "      <td>0.603921</td>\n",
       "      <td>-0.395532</td>\n",
       "      <td>-1.122323</td>\n",
       "      <td>-0.081558</td>\n",
       "      <td>-0.130872</td>\n",
       "      <td>0.341309</td>\n",
       "      <td>-0.027324</td>\n",
       "      <td>-0.082872</td>\n",
       "      <td>-0.072454</td>\n",
       "    </tr>\n",
       "    <tr>\n",
       "      <th>3</th>\n",
       "      <td>0.90661</td>\n",
       "      <td>2.053348</td>\n",
       "      <td>2.056456</td>\n",
       "      <td>-0.307173</td>\n",
       "      <td>-0.46311</td>\n",
       "      <td>-0.259034</td>\n",
       "      <td>-1.602642</td>\n",
       "      <td>-0.279967</td>\n",
       "      <td>-0.434144</td>\n",
       "      <td>-0.247114</td>\n",
       "      <td>...</td>\n",
       "      <td>1.425426</td>\n",
       "      <td>0.861910</td>\n",
       "      <td>0.468426</td>\n",
       "      <td>-0.028418</td>\n",
       "      <td>-0.081558</td>\n",
       "      <td>-0.130872</td>\n",
       "      <td>0.341309</td>\n",
       "      <td>-0.027324</td>\n",
       "      <td>-0.082872</td>\n",
       "      <td>-0.072454</td>\n",
       "    </tr>\n",
       "    <tr>\n",
       "      <th>4</th>\n",
       "      <td>0.90661</td>\n",
       "      <td>-0.234080</td>\n",
       "      <td>-0.581607</td>\n",
       "      <td>3.255498</td>\n",
       "      <td>-0.46311</td>\n",
       "      <td>-0.259034</td>\n",
       "      <td>-0.029930</td>\n",
       "      <td>-0.279967</td>\n",
       "      <td>-0.058136</td>\n",
       "      <td>-0.247114</td>\n",
       "      <td>...</td>\n",
       "      <td>-0.978267</td>\n",
       "      <td>-1.678491</td>\n",
       "      <td>1.332384</td>\n",
       "      <td>1.304125</td>\n",
       "      <td>-0.081558</td>\n",
       "      <td>-0.130872</td>\n",
       "      <td>0.341309</td>\n",
       "      <td>-0.027324</td>\n",
       "      <td>-0.082872</td>\n",
       "      <td>-0.072454</td>\n",
       "    </tr>\n",
       "  </tbody>\n",
       "</table>\n",
       "<p>5 rows × 30 columns</p>\n",
       "</div>"
      ],
      "text/plain": [
       "   frisked_Y    repcmd    revcmd  searched_Y  othpers_Y  arstmade_Y       pct  \\\n",
       "0   -1.10301 -0.684887 -0.667992   -0.307173   -0.46311   -0.259034 -0.801449   \n",
       "1    0.90661 -0.678208 -0.661347   -0.307173   -0.46311   -0.259034 -0.742101   \n",
       "2   -1.10301 -0.564672 -0.548382   -0.307173   -0.46311   -0.259034  0.266808   \n",
       "3    0.90661  2.053348  2.056456   -0.307173   -0.46311   -0.259034 -1.602642   \n",
       "4    0.90661 -0.234080 -0.581607    3.255498   -0.46311   -0.259034 -0.029930   \n",
       "\n",
       "   sumissue_Y   perstop  sector_J  ...       age  timestop   ht_inch  \\\n",
       "0   -0.279967 -0.340142 -0.247114  ... -0.622164 -1.650849  0.756412   \n",
       "1   -0.279967 -0.434144 -0.247114  ... -0.889241  0.086627 -0.971504   \n",
       "2   -0.279967 -0.058136  4.046718  ... -0.800216  0.603921 -0.395532   \n",
       "3   -0.279967 -0.434144 -0.247114  ...  1.425426  0.861910  0.468426   \n",
       "4   -0.279967 -0.058136 -0.247114  ... -0.978267 -1.678491  1.332384   \n",
       "\n",
       "        dob  eyecolor_GR  eyecolor_BL  eyecolor_BR  eyecolor_DF    race_U  \\\n",
       "0 -0.055223    -0.081558    -0.130872     0.341309    -0.027324 -0.082872   \n",
       "1 -0.076671    -0.081558    -0.130872     0.341309    -0.027324 -0.082872   \n",
       "2 -1.122323    -0.081558    -0.130872     0.341309    -0.027324 -0.082872   \n",
       "3 -0.028418    -0.081558    -0.130872     0.341309    -0.027324 -0.082872   \n",
       "4  1.304125    -0.081558    -0.130872     0.341309    -0.027324 -0.082872   \n",
       "\n",
       "   haircolr_XX  \n",
       "0    -0.072454  \n",
       "1    -0.072454  \n",
       "2    -0.072454  \n",
       "3    -0.072454  \n",
       "4    -0.072454  \n",
       "\n",
       "[5 rows x 30 columns]"
      ]
     },
     "execution_count": 218,
     "metadata": {},
     "output_type": "execute_result"
    }
   ],
   "source": [
    "df_train[atributos_30].head()"
   ]
  },
  {
   "cell_type": "markdown",
   "metadata": {},
   "source": []
  },
  {
   "cell_type": "code",
   "execution_count": 219,
   "metadata": {},
   "outputs": [],
   "source": [
    "dec_tree_grid_cv = GridSearchCV(DecisionTreeClassifier(),\n",
    "                                    # evaluamos 10 escenarios\n",
    "                                   {'min_samples_split': np.linspace(0.1, 1.0, 10),\n",
    "                                   'max_features': np.linspace(1,30,5, dtype='int')},\n",
    "                                # Con 5 validaciones cruzadas\n",
    "                                cv=5, scoring='f1',\n",
    "                                # Ocupando todos los núcleos del computador\n",
    "                                n_jobs=-1).fit(X_train[atributos_30], y_train)"
   ]
  },
  {
   "cell_type": "code",
   "execution_count": 220,
   "metadata": {},
   "outputs": [
    {
     "name": "stdout",
     "output_type": "stream",
     "text": [
      "              precision    recall  f1-score   support\n",
      "\n",
      "           0       0.84      0.87      0.85      3643\n",
      "           1       0.51      0.44      0.47      1104\n",
      "\n",
      "   micro avg       0.77      0.77      0.77      4747\n",
      "   macro avg       0.67      0.65      0.66      4747\n",
      "weighted avg       0.76      0.77      0.76      4747\n",
      "\n"
     ]
    }
   ],
   "source": [
    "y_hat = dec_tree_grid_cv.best_estimator_.predict(X_test[atributos_30])\n",
    "print(classification_report(y_test, y_hat))"
   ]
  },
  {
   "cell_type": "markdown",
   "metadata": {},
   "source": []
  },
  {
   "cell_type": "code",
   "execution_count": 221,
   "metadata": {},
   "outputs": [
    {
     "data": {
      "text/plain": [
       "\"\\nfor i in atributos_30:\\n    if df_train[i].dtype == 'uint8':\\n        plt.figure()\\n        props = df_train.groupby(i)['arstmade_Y'].value_counts(normalize=True).unstack()\\n        props.plot(kind='bar', stacked='True')\\n    \""
      ]
     },
     "execution_count": 221,
     "metadata": {},
     "output_type": "execute_result"
    }
   ],
   "source": [
    "\"\"\"\n",
    "for i in atributos_30:\n",
    "    if df_train[i].dtype == 'uint8':\n",
    "        plt.figure()\n",
    "        props = df_train.groupby(i)['arstmade_Y'].value_counts(normalize=True).unstack()\n",
    "        props.plot(kind='bar', stacked='True')\n",
    "    \"\"\""
   ]
  },
  {
   "cell_type": "code",
   "execution_count": null,
   "metadata": {},
   "outputs": [],
   "source": [
    "\n"
   ]
  },
  {
   "cell_type": "markdown",
   "metadata": {},
   "source": [
    "Finalmente, reporte la probabilidad que un individuo sea arrestado en uno de los cinco barrios, condicional al género y condicional a la raza."
   ]
  },
  {
   "cell_type": "code",
   "execution_count": 222,
   "metadata": {},
   "outputs": [
    {
     "data": {
      "text/plain": [
       "sex  race  city     \n",
       "F    A     BRONX        0.000000\n",
       "           BROOKLYN     0.000000\n",
       "           MANHATTAN    0.400000\n",
       "           QUEENS       0.100000\n",
       "           STATEN IS    0.000000\n",
       "     B     BRONX        0.178571\n",
       "           BROOKLYN     0.032520\n",
       "           MANHATTAN    0.158730\n",
       "           QUEENS       0.048780\n",
       "           STATEN IS    0.000000\n",
       "     I     BROOKLYN     0.000000\n",
       "           QUEENS       0.000000\n",
       "     P     BRONX        0.000000\n",
       "           BROOKLYN     0.000000\n",
       "           MANHATTAN    0.111111\n",
       "           QUEENS       0.000000\n",
       "           STATEN IS    0.000000\n",
       "     Q     BRONX        0.000000\n",
       "           BROOKLYN     0.060606\n",
       "           MANHATTAN    0.064516\n",
       "           QUEENS       0.055556\n",
       "           STATEN IS    0.000000\n",
       "     U     MANHATTAN    0.000000\n",
       "           QUEENS       0.000000\n",
       "           STATEN IS    0.000000\n",
       "     W     BRONX        0.166667\n",
       "           BROOKLYN     0.035714\n",
       "           MANHATTAN    0.103448\n",
       "           QUEENS       0.050000\n",
       "           STATEN IS    0.000000\n",
       "                          ...   \n",
       "M    W     BROOKLYN     0.032129\n",
       "           MANHATTAN    0.066667\n",
       "           QUEENS       0.078947\n",
       "           STATEN IS    0.033058\n",
       "     Z     BRONX        0.050000\n",
       "           BROOKLYN     0.043478\n",
       "           MANHATTAN    0.071429\n",
       "           QUEENS       0.058824\n",
       "           STATEN IS    0.000000\n",
       "Z    A     QUEENS       0.000000\n",
       "     B     BRONX        0.000000\n",
       "           BROOKLYN     0.000000\n",
       "           MANHATTAN    0.000000\n",
       "           QUEENS       0.000000\n",
       "     P     BRONX        0.000000\n",
       "           MANHATTAN    0.000000\n",
       "     Q     BRONX        0.000000\n",
       "           BROOKLYN     0.166667\n",
       "           MANHATTAN    0.000000\n",
       "     U     BRONX        0.000000\n",
       "           BROOKLYN     0.000000\n",
       "           MANHATTAN    1.000000\n",
       "           QUEENS       0.000000\n",
       "     W     MANHATTAN    0.000000\n",
       "           QUEENS       0.000000\n",
       "     Z     BRONX        0.026316\n",
       "           BROOKLYN     0.000000\n",
       "           MANHATTAN    0.062500\n",
       "           QUEENS       0.071429\n",
       "           STATEN IS    0.000000\n",
       "Name: prob, Length: 94, dtype: float64"
      ]
     },
     "execution_count": 222,
     "metadata": {},
     "output_type": "execute_result"
    }
   ],
   "source": [
    "df_group.groupby(by=['sex','race','city']).mean()['prob']"
   ]
  },
  {
   "cell_type": "markdown",
   "metadata": {},
   "source": [
    "Genere al menos cinco modelos predictivos que permitan determinar si el procedimiento policial concluirá en alguna acción violenta."
   ]
  },
  {
   "cell_type": "markdown",
   "metadata": {},
   "source": [
    "Para ello, debe generar un nuevo atributo como vector objetivo que indique cuándo hubo violencia o no. Éste debe ser creado a partir de atributos existentes que indiquen el tipo de violencia. El detalle de los atributos que se consideran violentos se detalla a continuación:\n",
    "    'pf_hands', 'pf_wall', 'pf_grnd', 'pf_drwep', 'pf_baton', 'pf_hcuff', 'pf_pepsp', 'pf_other'\n",
    "    \n",
    "    \n",
    "    \n",
    "**Para ver cuales son los mejores modelos ocuparé la métrica f1-macro, que puntua ambos puntajes f1 por igual, ya que dado que no tengo mayor conocimiento del problema de negocio, asumiré que tener un buen predictor de ambas métricas es importante**"
   ]
  },
  {
   "cell_type": "code",
   "execution_count": 223,
   "metadata": {},
   "outputs": [
    {
     "data": {
      "text/html": [
       "<div>\n",
       "<style scoped>\n",
       "    .dataframe tbody tr th:only-of-type {\n",
       "        vertical-align: middle;\n",
       "    }\n",
       "\n",
       "    .dataframe tbody tr th {\n",
       "        vertical-align: top;\n",
       "    }\n",
       "\n",
       "    .dataframe thead th {\n",
       "        text-align: right;\n",
       "    }\n",
       "</style>\n",
       "<table border=\"1\" class=\"dataframe\">\n",
       "  <thead>\n",
       "    <tr style=\"text-align: right;\">\n",
       "      <th></th>\n",
       "      <th>pf_hands</th>\n",
       "      <th>pf_wall</th>\n",
       "      <th>pf_grnd</th>\n",
       "      <th>pf_drwep</th>\n",
       "      <th>pf_baton</th>\n",
       "      <th>pf_hcuff</th>\n",
       "      <th>pf_pepsp</th>\n",
       "      <th>pf_other</th>\n",
       "    </tr>\n",
       "  </thead>\n",
       "  <tbody>\n",
       "    <tr>\n",
       "      <th>0</th>\n",
       "      <td>N</td>\n",
       "      <td>N</td>\n",
       "      <td>N</td>\n",
       "      <td>N</td>\n",
       "      <td>N</td>\n",
       "      <td>N</td>\n",
       "      <td>N</td>\n",
       "      <td>N</td>\n",
       "    </tr>\n",
       "    <tr>\n",
       "      <th>2</th>\n",
       "      <td>N</td>\n",
       "      <td>N</td>\n",
       "      <td>N</td>\n",
       "      <td>N</td>\n",
       "      <td>N</td>\n",
       "      <td>N</td>\n",
       "      <td>N</td>\n",
       "      <td>N</td>\n",
       "    </tr>\n",
       "    <tr>\n",
       "      <th>3</th>\n",
       "      <td>N</td>\n",
       "      <td>N</td>\n",
       "      <td>N</td>\n",
       "      <td>N</td>\n",
       "      <td>N</td>\n",
       "      <td>N</td>\n",
       "      <td>N</td>\n",
       "      <td>N</td>\n",
       "    </tr>\n",
       "    <tr>\n",
       "      <th>5</th>\n",
       "      <td>N</td>\n",
       "      <td>N</td>\n",
       "      <td>N</td>\n",
       "      <td>N</td>\n",
       "      <td>N</td>\n",
       "      <td>N</td>\n",
       "      <td>N</td>\n",
       "      <td>N</td>\n",
       "    </tr>\n",
       "    <tr>\n",
       "      <th>6</th>\n",
       "      <td>N</td>\n",
       "      <td>N</td>\n",
       "      <td>N</td>\n",
       "      <td>N</td>\n",
       "      <td>N</td>\n",
       "      <td>N</td>\n",
       "      <td>N</td>\n",
       "      <td>N</td>\n",
       "    </tr>\n",
       "  </tbody>\n",
       "</table>\n",
       "</div>"
      ],
      "text/plain": [
       "  pf_hands pf_wall pf_grnd pf_drwep pf_baton pf_hcuff pf_pepsp pf_other\n",
       "0        N       N       N        N        N        N        N        N\n",
       "2        N       N       N        N        N        N        N        N\n",
       "3        N       N       N        N        N        N        N        N\n",
       "5        N       N       N        N        N        N        N        N\n",
       "6        N       N       N        N        N        N        N        N"
      ]
     },
     "execution_count": 223,
     "metadata": {},
     "output_type": "execute_result"
    }
   ],
   "source": [
    "violent_attr = ['pf_hands', 'pf_wall', 'pf_grnd', 'pf_drwep', 'pf_baton', 'pf_hcuff', 'pf_pepsp', 'pf_other']\n",
    "df_suitable[violent_attr].head()"
   ]
  },
  {
   "cell_type": "code",
   "execution_count": 224,
   "metadata": {},
   "outputs": [],
   "source": [
    "violent = (df_suitable[violent_attr]).apply(lambda x: ''.join(x.astype(str)), axis=1)"
   ]
  },
  {
   "cell_type": "code",
   "execution_count": 225,
   "metadata": {},
   "outputs": [],
   "source": [
    "violents = np.where(violent.str.contains('Y'),'Y','N')"
   ]
  },
  {
   "cell_type": "code",
   "execution_count": 226,
   "metadata": {},
   "outputs": [],
   "source": [
    "df_new = df_suitable.drop(columns=violent_attr)\n",
    "df_new['violent']= violents"
   ]
  },
  {
   "cell_type": "code",
   "execution_count": 227,
   "metadata": {},
   "outputs": [
    {
     "data": {
      "text/plain": [
       "<matplotlib.axes._subplots.AxesSubplot at 0x135c45128>"
      ]
     },
     "execution_count": 227,
     "metadata": {},
     "output_type": "execute_result"
    },
    {
     "data": {
      "image/png": "[encoded data removed]",
      "text/plain": [
       "<Figure size 432x288 with 1 Axes>"
      ]
     },
     "metadata": {
      "needs_background": "light"
     },
     "output_type": "display_data"
    }
   ],
   "source": [
    "sns.countplot(df_new['violent'])"
   ]
  },
  {
   "cell_type": "markdown",
   "metadata": {},
   "source": [
    "La clase está notablemente desbalanceada"
   ]
  },
  {
   "cell_type": "code",
   "execution_count": 228,
   "metadata": {},
   "outputs": [],
   "source": [
    "objetos = df_new.select_dtypes('object').columns\n",
    "df_recoded_2 = pd.get_dummies(data=df_new, columns=objetos, drop_first=True, prefix=objetos)\n",
    "\n",
    "df_recoded_2 = df_recoded_2.reset_index()\n",
    "df_recoded_2.drop(columns='index',inplace=True)"
   ]
  },
  {
   "cell_type": "markdown",
   "metadata": {},
   "source": [
    "### Escalamos para poder aplicar distintos modelos"
   ]
  },
  {
   "cell_type": "code",
   "execution_count": 229,
   "metadata": {},
   "outputs": [
    {
     "data": {
      "text/html": [
       "<div>\n",
       "<style scoped>\n",
       "    .dataframe tbody tr th:only-of-type {\n",
       "        vertical-align: middle;\n",
       "    }\n",
       "\n",
       "    .dataframe tbody tr th {\n",
       "        vertical-align: top;\n",
       "    }\n",
       "\n",
       "    .dataframe thead th {\n",
       "        text-align: right;\n",
       "    }\n",
       "</style>\n",
       "<table border=\"1\" class=\"dataframe\">\n",
       "  <thead>\n",
       "    <tr style=\"text-align: right;\">\n",
       "      <th></th>\n",
       "      <th>month</th>\n",
       "      <th>meters</th>\n",
       "      <th>year</th>\n",
       "      <th>pct</th>\n",
       "      <th>ser_num</th>\n",
       "      <th>datestop</th>\n",
       "      <th>timestop</th>\n",
       "      <th>perstop</th>\n",
       "      <th>repcmd</th>\n",
       "      <th>revcmd</th>\n",
       "      <th>...</th>\n",
       "      <th>sector_J</th>\n",
       "      <th>sector_K</th>\n",
       "      <th>sector_M</th>\n",
       "      <th>sector_N</th>\n",
       "      <th>sector_P</th>\n",
       "      <th>sector_Q</th>\n",
       "      <th>sector_R</th>\n",
       "      <th>sector_T</th>\n",
       "      <th>sector_U</th>\n",
       "      <th>violent_Y</th>\n",
       "    </tr>\n",
       "  </thead>\n",
       "  <tbody>\n",
       "    <tr>\n",
       "      <th>0</th>\n",
       "      <td>4</td>\n",
       "      <td>1.798320</td>\n",
       "      <td>2009</td>\n",
       "      <td>41</td>\n",
       "      <td>1779</td>\n",
       "      <td>4032009</td>\n",
       "      <td>130</td>\n",
       "      <td>2</td>\n",
       "      <td>41</td>\n",
       "      <td>41</td>\n",
       "      <td>...</td>\n",
       "      <td>0</td>\n",
       "      <td>0</td>\n",
       "      <td>0</td>\n",
       "      <td>0</td>\n",
       "      <td>0</td>\n",
       "      <td>0</td>\n",
       "      <td>0</td>\n",
       "      <td>0</td>\n",
       "      <td>0</td>\n",
       "      <td>0</td>\n",
       "    </tr>\n",
       "    <tr>\n",
       "      <th>1</th>\n",
       "      <td>10</td>\n",
       "      <td>1.920240</td>\n",
       "      <td>2009</td>\n",
       "      <td>43</td>\n",
       "      <td>8340</td>\n",
       "      <td>10062009</td>\n",
       "      <td>1450</td>\n",
       "      <td>1</td>\n",
       "      <td>43</td>\n",
       "      <td>43</td>\n",
       "      <td>...</td>\n",
       "      <td>0</td>\n",
       "      <td>0</td>\n",
       "      <td>0</td>\n",
       "      <td>0</td>\n",
       "      <td>0</td>\n",
       "      <td>0</td>\n",
       "      <td>0</td>\n",
       "      <td>0</td>\n",
       "      <td>0</td>\n",
       "      <td>0</td>\n",
       "    </tr>\n",
       "    <tr>\n",
       "      <th>2</th>\n",
       "      <td>12</td>\n",
       "      <td>1.676400</td>\n",
       "      <td>2009</td>\n",
       "      <td>77</td>\n",
       "      <td>932</td>\n",
       "      <td>1232009</td>\n",
       "      <td>1843</td>\n",
       "      <td>5</td>\n",
       "      <td>77</td>\n",
       "      <td>77</td>\n",
       "      <td>...</td>\n",
       "      <td>1</td>\n",
       "      <td>0</td>\n",
       "      <td>0</td>\n",
       "      <td>0</td>\n",
       "      <td>0</td>\n",
       "      <td>0</td>\n",
       "      <td>0</td>\n",
       "      <td>0</td>\n",
       "      <td>0</td>\n",
       "      <td>0</td>\n",
       "    </tr>\n",
       "    <tr>\n",
       "      <th>3</th>\n",
       "      <td>5</td>\n",
       "      <td>1.767840</td>\n",
       "      <td>2009</td>\n",
       "      <td>14</td>\n",
       "      <td>5194</td>\n",
       "      <td>5222009</td>\n",
       "      <td>2039</td>\n",
       "      <td>1</td>\n",
       "      <td>861</td>\n",
       "      <td>861</td>\n",
       "      <td>...</td>\n",
       "      <td>0</td>\n",
       "      <td>0</td>\n",
       "      <td>0</td>\n",
       "      <td>0</td>\n",
       "      <td>0</td>\n",
       "      <td>0</td>\n",
       "      <td>0</td>\n",
       "      <td>0</td>\n",
       "      <td>0</td>\n",
       "      <td>0</td>\n",
       "    </tr>\n",
       "    <tr>\n",
       "      <th>4</th>\n",
       "      <td>11</td>\n",
       "      <td>1.557528</td>\n",
       "      <td>2009</td>\n",
       "      <td>67</td>\n",
       "      <td>11758</td>\n",
       "      <td>11242009</td>\n",
       "      <td>109</td>\n",
       "      <td>5</td>\n",
       "      <td>176</td>\n",
       "      <td>67</td>\n",
       "      <td>...</td>\n",
       "      <td>0</td>\n",
       "      <td>0</td>\n",
       "      <td>0</td>\n",
       "      <td>1</td>\n",
       "      <td>0</td>\n",
       "      <td>0</td>\n",
       "      <td>0</td>\n",
       "      <td>0</td>\n",
       "      <td>0</td>\n",
       "      <td>0</td>\n",
       "    </tr>\n",
       "  </tbody>\n",
       "</table>\n",
       "<p>5 rows × 130 columns</p>\n",
       "</div>"
      ],
      "text/plain": [
       "   month    meters  year  pct  ser_num  datestop  timestop  perstop  repcmd  \\\n",
       "0      4  1.798320  2009   41     1779   4032009       130        2      41   \n",
       "1     10  1.920240  2009   43     8340  10062009      1450        1      43   \n",
       "2     12  1.676400  2009   77      932   1232009      1843        5      77   \n",
       "3      5  1.767840  2009   14     5194   5222009      2039        1     861   \n",
       "4     11  1.557528  2009   67    11758  11242009       109        5     176   \n",
       "\n",
       "   revcmd  ...  sector_J  sector_K  sector_M  sector_N  sector_P  sector_Q  \\\n",
       "0      41  ...         0         0         0         0         0         0   \n",
       "1      43  ...         0         0         0         0         0         0   \n",
       "2      77  ...         1         0         0         0         0         0   \n",
       "3     861  ...         0         0         0         0         0         0   \n",
       "4      67  ...         0         0         0         1         0         0   \n",
       "\n",
       "   sector_R  sector_T  sector_U  violent_Y  \n",
       "0         0         0         0          0  \n",
       "1         0         0         0          0  \n",
       "2         0         0         0          0  \n",
       "3         0         0         0          0  \n",
       "4         0         0         0          0  \n",
       "\n",
       "[5 rows x 130 columns]"
      ]
     },
     "execution_count": 229,
     "metadata": {},
     "output_type": "execute_result"
    }
   ],
   "source": [
    "scaler = StandardScaler()\n",
    "columnas_scale = list(df_recoded_2.columns)\n",
    "columnas_scale.remove('year')\n",
    "columnas_scale.remove('violent_Y')\n",
    "df_recoded_2.head()"
   ]
  },
  {
   "cell_type": "code",
   "execution_count": 230,
   "metadata": {},
   "outputs": [],
   "source": [
    "df_recoded_scale = pd.DataFrame(scaler.fit_transform(df_recoded_2[columnas_scale]), columns = columnas_scale)\n",
    "df_recoded_scale.head()\n",
    "df_recoded_scale['year'] = df_recoded_2['year'] \n",
    "df_recoded_scale['violent_Y'] = df_recoded_2['violent_Y'] \n"
   ]
  },
  {
   "cell_type": "code",
   "execution_count": 231,
   "metadata": {},
   "outputs": [
    {
     "data": {
      "text/html": [
       "<div>\n",
       "<style scoped>\n",
       "    .dataframe tbody tr th:only-of-type {\n",
       "        vertical-align: middle;\n",
       "    }\n",
       "\n",
       "    .dataframe tbody tr th {\n",
       "        vertical-align: top;\n",
       "    }\n",
       "\n",
       "    .dataframe thead th {\n",
       "        text-align: right;\n",
       "    }\n",
       "</style>\n",
       "<table border=\"1\" class=\"dataframe\">\n",
       "  <thead>\n",
       "    <tr style=\"text-align: right;\">\n",
       "      <th></th>\n",
       "      <th>month</th>\n",
       "      <th>meters</th>\n",
       "      <th>pct</th>\n",
       "      <th>ser_num</th>\n",
       "      <th>datestop</th>\n",
       "      <th>timestop</th>\n",
       "      <th>perstop</th>\n",
       "      <th>repcmd</th>\n",
       "      <th>revcmd</th>\n",
       "      <th>dob</th>\n",
       "      <th>...</th>\n",
       "      <th>sector_K</th>\n",
       "      <th>sector_M</th>\n",
       "      <th>sector_N</th>\n",
       "      <th>sector_P</th>\n",
       "      <th>sector_Q</th>\n",
       "      <th>sector_R</th>\n",
       "      <th>sector_T</th>\n",
       "      <th>sector_U</th>\n",
       "      <th>year</th>\n",
       "      <th>violent_Y</th>\n",
       "    </tr>\n",
       "  </thead>\n",
       "  <tbody>\n",
       "    <tr>\n",
       "      <th>0</th>\n",
       "      <td>-0.930390</td>\n",
       "      <td>0.681133</td>\n",
       "      <td>-0.801449</td>\n",
       "      <td>-0.766079</td>\n",
       "      <td>-0.685889</td>\n",
       "      <td>-1.650849</td>\n",
       "      <td>-0.340142</td>\n",
       "      <td>-0.684887</td>\n",
       "      <td>-0.667992</td>\n",
       "      <td>-0.055223</td>\n",
       "      <td>...</td>\n",
       "      <td>-0.179852</td>\n",
       "      <td>-0.175383</td>\n",
       "      <td>-0.115252</td>\n",
       "      <td>-0.137457</td>\n",
       "      <td>-0.078866</td>\n",
       "      <td>-0.058499</td>\n",
       "      <td>-0.08544</td>\n",
       "      <td>-0.153865</td>\n",
       "      <td>2009</td>\n",
       "      <td>0</td>\n",
       "    </tr>\n",
       "    <tr>\n",
       "      <th>1</th>\n",
       "      <td>0.900919</td>\n",
       "      <td>1.755901</td>\n",
       "      <td>-0.742101</td>\n",
       "      <td>0.523199</td>\n",
       "      <td>1.081713</td>\n",
       "      <td>0.086627</td>\n",
       "      <td>-0.434144</td>\n",
       "      <td>-0.678208</td>\n",
       "      <td>-0.661347</td>\n",
       "      <td>-0.076671</td>\n",
       "      <td>...</td>\n",
       "      <td>-0.179852</td>\n",
       "      <td>-0.175383</td>\n",
       "      <td>-0.115252</td>\n",
       "      <td>-0.137457</td>\n",
       "      <td>-0.078866</td>\n",
       "      <td>-0.058499</td>\n",
       "      <td>-0.08544</td>\n",
       "      <td>-0.153865</td>\n",
       "      <td>2009</td>\n",
       "      <td>0</td>\n",
       "    </tr>\n",
       "    <tr>\n",
       "      <th>2</th>\n",
       "      <td>1.511356</td>\n",
       "      <td>-0.393634</td>\n",
       "      <td>0.266808</td>\n",
       "      <td>-0.932519</td>\n",
       "      <td>-1.506666</td>\n",
       "      <td>0.603921</td>\n",
       "      <td>-0.058136</td>\n",
       "      <td>-0.564672</td>\n",
       "      <td>-0.548382</td>\n",
       "      <td>-1.122323</td>\n",
       "      <td>...</td>\n",
       "      <td>-0.179852</td>\n",
       "      <td>-0.175383</td>\n",
       "      <td>-0.115252</td>\n",
       "      <td>-0.137457</td>\n",
       "      <td>-0.078866</td>\n",
       "      <td>-0.058499</td>\n",
       "      <td>-0.08544</td>\n",
       "      <td>-0.153865</td>\n",
       "      <td>2009</td>\n",
       "      <td>0</td>\n",
       "    </tr>\n",
       "    <tr>\n",
       "      <th>3</th>\n",
       "      <td>-0.625172</td>\n",
       "      <td>0.412442</td>\n",
       "      <td>-1.602642</td>\n",
       "      <td>-0.095009</td>\n",
       "      <td>-0.337059</td>\n",
       "      <td>0.861910</td>\n",
       "      <td>-0.434144</td>\n",
       "      <td>2.053348</td>\n",
       "      <td>2.056456</td>\n",
       "      <td>-0.028418</td>\n",
       "      <td>...</td>\n",
       "      <td>-0.179852</td>\n",
       "      <td>-0.175383</td>\n",
       "      <td>-0.115252</td>\n",
       "      <td>-0.137457</td>\n",
       "      <td>-0.078866</td>\n",
       "      <td>-0.058499</td>\n",
       "      <td>-0.08544</td>\n",
       "      <td>-0.153865</td>\n",
       "      <td>2009</td>\n",
       "      <td>0</td>\n",
       "    </tr>\n",
       "    <tr>\n",
       "      <th>4</th>\n",
       "      <td>1.206138</td>\n",
       "      <td>-1.441532</td>\n",
       "      <td>-0.029930</td>\n",
       "      <td>1.194858</td>\n",
       "      <td>1.427612</td>\n",
       "      <td>-1.678491</td>\n",
       "      <td>-0.058136</td>\n",
       "      <td>-0.234080</td>\n",
       "      <td>-0.581607</td>\n",
       "      <td>1.304125</td>\n",
       "      <td>...</td>\n",
       "      <td>-0.179852</td>\n",
       "      <td>-0.175383</td>\n",
       "      <td>8.676667</td>\n",
       "      <td>-0.137457</td>\n",
       "      <td>-0.078866</td>\n",
       "      <td>-0.058499</td>\n",
       "      <td>-0.08544</td>\n",
       "      <td>-0.153865</td>\n",
       "      <td>2009</td>\n",
       "      <td>0</td>\n",
       "    </tr>\n",
       "  </tbody>\n",
       "</table>\n",
       "<p>5 rows × 130 columns</p>\n",
       "</div>"
      ],
      "text/plain": [
       "      month    meters       pct   ser_num  datestop  timestop   perstop  \\\n",
       "0 -0.930390  0.681133 -0.801449 -0.766079 -0.685889 -1.650849 -0.340142   \n",
       "1  0.900919  1.755901 -0.742101  0.523199  1.081713  0.086627 -0.434144   \n",
       "2  1.511356 -0.393634  0.266808 -0.932519 -1.506666  0.603921 -0.058136   \n",
       "3 -0.625172  0.412442 -1.602642 -0.095009 -0.337059  0.861910 -0.434144   \n",
       "4  1.206138 -1.441532 -0.029930  1.194858  1.427612 -1.678491 -0.058136   \n",
       "\n",
       "     repcmd    revcmd       dob  ...  sector_K  sector_M  sector_N  sector_P  \\\n",
       "0 -0.684887 -0.667992 -0.055223  ... -0.179852 -0.175383 -0.115252 -0.137457   \n",
       "1 -0.678208 -0.661347 -0.076671  ... -0.179852 -0.175383 -0.115252 -0.137457   \n",
       "2 -0.564672 -0.548382 -1.122323  ... -0.179852 -0.175383 -0.115252 -0.137457   \n",
       "3  2.053348  2.056456 -0.028418  ... -0.179852 -0.175383 -0.115252 -0.137457   \n",
       "4 -0.234080 -0.581607  1.304125  ... -0.179852 -0.175383  8.676667 -0.137457   \n",
       "\n",
       "   sector_Q  sector_R  sector_T  sector_U  year  violent_Y  \n",
       "0 -0.078866 -0.058499  -0.08544 -0.153865  2009          0  \n",
       "1 -0.078866 -0.058499  -0.08544 -0.153865  2009          0  \n",
       "2 -0.078866 -0.058499  -0.08544 -0.153865  2009          0  \n",
       "3 -0.078866 -0.058499  -0.08544 -0.153865  2009          0  \n",
       "4 -0.078866 -0.058499  -0.08544 -0.153865  2009          0  \n",
       "\n",
       "[5 rows x 130 columns]"
      ]
     },
     "execution_count": 231,
     "metadata": {},
     "output_type": "execute_result"
    }
   ],
   "source": [
    "df_train = df_recoded_scale.query(\"year==2009\")\n",
    "\n",
    "df_test = df_recoded_scale.query(\"year==2010\")\n",
    "df_train.head()"
   ]
  },
  {
   "cell_type": "code",
   "execution_count": 232,
   "metadata": {},
   "outputs": [],
   "source": [
    "X_train = df_train.drop(columns='violent_Y')\n",
    "y_train = df_train['violent_Y']"
   ]
  },
  {
   "cell_type": "code",
   "execution_count": 233,
   "metadata": {},
   "outputs": [],
   "source": [
    "X_test = df_test.drop(columns='violent_Y')\n",
    "y_test = df_test['violent_Y']"
   ]
  },
  {
   "cell_type": "markdown",
   "metadata": {},
   "source": [
    "### Definimos además un subset oversampleado, en un intento de ver si mejoran los puntajes de los modelos"
   ]
  },
  {
   "cell_type": "code",
   "execution_count": 234,
   "metadata": {},
   "outputs": [
    {
     "data": {
      "text/plain": [
       "<matplotlib.axes._subplots.AxesSubplot at 0x124a61a20>"
      ]
     },
     "execution_count": 234,
     "metadata": {},
     "output_type": "execute_result"
    },
    {
     "data": {
      "image/png": "[encoded data removed]",
      "text/plain": [
       "<Figure size 432x288 with 1 Axes>"
      ]
     },
     "metadata": {
      "needs_background": "light"
     },
     "output_type": "display_data"
    }
   ],
   "source": [
    "oversampler = SMOTE(random_state=1234, ratio='minority')\n",
    "X_train_oversamp, y_train_oversamp = oversampler.fit_sample(X_train, y_train)\n",
    "\n",
    "df_train_oversamp = pd.DataFrame(X_train_oversamp)\n",
    "df_train_oversamp.columns = X_train.columns\n",
    "df_train_oversamp['violent_Y']= y_train_oversamp\n",
    "sns.countplot(y_train_oversamp)"
   ]
  },
  {
   "cell_type": "markdown",
   "metadata": {},
   "source": [
    "# Arbol de decision"
   ]
  },
  {
   "cell_type": "code",
   "execution_count": 235,
   "metadata": {},
   "outputs": [],
   "source": [
    "dec_tree_grid_cv = GridSearchCV(DecisionTreeClassifier(),\n",
    "                                    # evaluamos 10 escenarios\n",
    "                                   {\n",
    "                                       'min_samples_split': np.linspace(0.1, 1.0, 5),\n",
    "                                   'max_features': np.linspace(1,X_train.shape[1],5, dtype='int')},\n",
    "                                # Con 5 validaciones cruzadas\n",
    "                                cv=5, scoring='f1_macro',\n",
    "                                # Ocupando todos los núcleos del computador\n",
    "                                n_jobs=-1).fit(X_train, y_train)"
   ]
  },
  {
   "cell_type": "code",
   "execution_count": 236,
   "metadata": {},
   "outputs": [
    {
     "name": "stdout",
     "output_type": "stream",
     "text": [
      "              precision    recall  f1-score   support\n",
      "\n",
      "           0       0.83      0.88      0.85      3643\n",
      "           1       0.51      0.42      0.46      1104\n",
      "\n",
      "   micro avg       0.77      0.77      0.77      4747\n",
      "   macro avg       0.67      0.65      0.66      4747\n",
      "weighted avg       0.76      0.77      0.76      4747\n",
      "\n"
     ]
    }
   ],
   "source": [
    "y_hat = dec_tree_grid_cv.best_estimator_.predict(X_test)\n",
    "print(classification_report(y_test, y_hat))"
   ]
  },
  {
   "cell_type": "markdown",
   "metadata": {},
   "source": [
    "# Logistic GAM"
   ]
  },
  {
   "cell_type": "code",
   "execution_count": 237,
   "metadata": {},
   "outputs": [],
   "source": [
    "\n",
    "try:\n",
    "    lgam= pickle.load(open('lgam_2.sav','rb'))\n",
    "except:\n",
    "    lgam =LogisticGAM()\n",
    "    lgam.fit(X_train, y_train)\n",
    "    pickle.dump(lgam, open('lgam_2.sav','wb'))"
   ]
  },
  {
   "cell_type": "code",
   "execution_count": 238,
   "metadata": {},
   "outputs": [
    {
     "name": "stdout",
     "output_type": "stream",
     "text": [
      "              precision    recall  f1-score   support\n",
      "\n",
      "           0       0.90      0.71      0.79      3643\n",
      "           1       0.43      0.73      0.54      1104\n",
      "\n",
      "   micro avg       0.71      0.71      0.71      4747\n",
      "   macro avg       0.66      0.72      0.67      4747\n",
      "weighted avg       0.79      0.71      0.73      4747\n",
      "\n"
     ]
    }
   ],
   "source": [
    "y_hat = lgam.predict(X_test)\n",
    "print(classification_report(y_test, y_hat))"
   ]
  },
  {
   "cell_type": "markdown",
   "metadata": {},
   "source": [
    "# Regresion Logística"
   ]
  },
  {
   "cell_type": "code",
   "execution_count": 239,
   "metadata": {},
   "outputs": [
    {
     "data": {
      "text/plain": [
       "{'C': 1.0, 'fit_intercept': False, 'penalty': 'l1'}"
      ]
     },
     "execution_count": 239,
     "metadata": {},
     "output_type": "execute_result"
    }
   ],
   "source": [
    "grid={\"C\":np.logspace(-3,3,7), \"penalty\":[\"l1\",\"l2\"], \"fit_intercept\":[True,False]}# l1 lasso l2 ridge\n",
    "logreg=LogisticRegression(random_state=3504)\n",
    "logreg_cv=GridSearchCV(logreg,grid,cv=5, scoring='f1', n_jobs=-1)\n",
    "logreg_cv.fit(X_train,y_train)\n",
    "logreg_cv.best_params_"
   ]
  },
  {
   "cell_type": "code",
   "execution_count": 240,
   "metadata": {},
   "outputs": [
    {
     "name": "stdout",
     "output_type": "stream",
     "text": [
      "              precision    recall  f1-score   support\n",
      "\n",
      "           0       0.81      0.92      0.86      3643\n",
      "           1       0.52      0.30      0.38      1104\n",
      "\n",
      "   micro avg       0.77      0.77      0.77      4747\n",
      "   macro avg       0.66      0.61      0.62      4747\n",
      "weighted avg       0.74      0.77      0.75      4747\n",
      "\n"
     ]
    }
   ],
   "source": [
    "y_hat = logreg_cv.best_estimator_.predict(X_test)\n",
    "print(classification_report(y_test, y_hat))"
   ]
  },
  {
   "cell_type": "markdown",
   "metadata": {},
   "source": [
    "# Random Forest\n"
   ]
  },
  {
   "cell_type": "code",
   "execution_count": 241,
   "metadata": {},
   "outputs": [],
   "source": [
    "voting_rf = RandomForestClassifier(oob_score=True, random_state=3504).fit(X_train, y_train)"
   ]
  },
  {
   "cell_type": "code",
   "execution_count": 242,
   "metadata": {},
   "outputs": [
    {
     "name": "stdout",
     "output_type": "stream",
     "text": [
      "              precision    recall  f1-score   support\n",
      "\n",
      "           0       0.80      0.93      0.86      3643\n",
      "           1       0.50      0.22      0.31      1104\n",
      "\n",
      "   micro avg       0.77      0.77      0.77      4747\n",
      "   macro avg       0.65      0.58      0.58      4747\n",
      "weighted avg       0.73      0.77      0.73      4747\n",
      "\n"
     ]
    }
   ],
   "source": [
    "print(classification_report(y_test, voting_rf.predict(X_test)))"
   ]
  },
  {
   "cell_type": "markdown",
   "metadata": {},
   "source": [
    "Debido a la cantidad de hiperparámetros posibles de random forest, realizamos un **RandomizedSearchCV** que busque en 50 combinaciones distintas, ya que de otra forma los tiempos de procesamiento son muy altos."
   ]
  },
  {
   "cell_type": "code",
   "execution_count": 243,
   "metadata": {},
   "outputs": [],
   "source": [
    "n_estimators = [int(x) for x in np.linspace(start = 200, stop = 2000, num = 10)]\n",
    "max_features = ['auto', 'sqrt']\n",
    "max_depth = [int(x) for x in np.linspace(10, 110, num = 11)]\n",
    "max_depth.append(None)\n",
    "min_samples_split = [2, 5, 10]\n",
    "min_samples_leaf = [1, 2, 4]\n",
    "bootstrap = [True, False]\n",
    "random_grid = {'n_estimators': n_estimators,\n",
    "               'max_features': max_features,\n",
    "               'max_depth': max_depth,\n",
    "               'min_samples_split': min_samples_split,\n",
    "               'min_samples_leaf': min_samples_leaf,\n",
    "               'bootstrap': bootstrap}"
   ]
  },
  {
   "cell_type": "code",
   "execution_count": 244,
   "metadata": {},
   "outputs": [],
   "source": [
    "\n",
    "rf = RandomForestClassifier()\n",
    "\n",
    "\n",
    "try:\n",
    "    rf_random = pickle.load(open('rf_random.sav','rb'))\n",
    "except:\n",
    "    rf_random = RandomizedSearchCV(estimator = rf, param_distributions = random_grid, n_iter = 50, cv = 2, verbose=2, random_state=42, n_jobs = -1)\n",
    "    rf_random.fit(X_train, y_train)\n",
    "    pickle.dump(rf_random,open('rf_random.sav','wb'))\n"
   ]
  },
  {
   "cell_type": "code",
   "execution_count": 245,
   "metadata": {},
   "outputs": [
    {
     "name": "stdout",
     "output_type": "stream",
     "text": [
      "              precision    recall  f1-score   support\n",
      "\n",
      "           0       0.81      0.95      0.87      3643\n",
      "           1       0.60      0.24      0.35      1104\n",
      "\n",
      "   micro avg       0.79      0.79      0.79      4747\n",
      "   macro avg       0.70      0.60      0.61      4747\n",
      "weighted avg       0.76      0.79      0.75      4747\n",
      "\n"
     ]
    }
   ],
   "source": [
    "rf_random.best_params_\n",
    "y_hat = rf_random.best_estimator_.predict(X_test)\n",
    "print(classification_report(y_test, y_hat))"
   ]
  },
  {
   "cell_type": "markdown",
   "metadata": {},
   "source": [
    "# AdaBoost"
   ]
  },
  {
   "cell_type": "code",
   "execution_count": 246,
   "metadata": {},
   "outputs": [],
   "source": [
    "decision_stump = DecisionTreeClassifier(max_depth=5, random_state=11238).fit(X_train, y_train)\n",
    "adaboost_classifier = AdaBoostClassifier(base_estimator=rf_random.best_estimator_, random_state=3504).fit(X_train, y_train)"
   ]
  },
  {
   "cell_type": "code",
   "execution_count": 247,
   "metadata": {},
   "outputs": [
    {
     "name": "stdout",
     "output_type": "stream",
     "text": [
      "              precision    recall  f1-score   support\n",
      "\n",
      "           0       0.81      0.95      0.87      3643\n",
      "           1       0.62      0.25      0.35      1104\n",
      "\n",
      "   micro avg       0.79      0.79      0.79      4747\n",
      "   macro avg       0.71      0.60      0.61      4747\n",
      "weighted avg       0.76      0.79      0.75      4747\n",
      "\n"
     ]
    }
   ],
   "source": [
    "print(classification_report(y_test, adaboost_classifier.predict(X_test)))"
   ]
  },
  {
   "cell_type": "markdown",
   "metadata": {},
   "source": [
    "Aplicamos los mismos pero con clases balanceadas"
   ]
  },
  {
   "cell_type": "markdown",
   "metadata": {},
   "source": [
    "# Arbol de decision Oversampled"
   ]
  },
  {
   "cell_type": "code",
   "execution_count": 248,
   "metadata": {},
   "outputs": [],
   "source": [
    "dec_tree_grid_cv_os = GridSearchCV(DecisionTreeClassifier(),\n",
    "                                    # evaluamos 10 escenarios\n",
    "                                   {\n",
    "                                       'min_samples_split': np.linspace(0.1, 1.0, 5),\n",
    "                                   'max_features': np.linspace(1,X_train.shape[1],5, dtype='int')},\n",
    "                                # Con 5 validaciones cruzadas\n",
    "                                cv=5, scoring='f1_macro',\n",
    "                                # Ocupando todos los núcleos del computador\n",
    "                                n_jobs=-1).fit(X_train_oversamp, y_train_oversamp)"
   ]
  },
  {
   "cell_type": "code",
   "execution_count": 249,
   "metadata": {},
   "outputs": [
    {
     "name": "stdout",
     "output_type": "stream",
     "text": [
      "              precision    recall  f1-score   support\n",
      "\n",
      "           0       0.87      0.69      0.77      3643\n",
      "           1       0.39      0.66      0.49      1104\n",
      "\n",
      "   micro avg       0.68      0.68      0.68      4747\n",
      "   macro avg       0.63      0.67      0.63      4747\n",
      "weighted avg       0.76      0.68      0.70      4747\n",
      "\n"
     ]
    }
   ],
   "source": [
    "y_hat = dec_tree_grid_cv_os.best_estimator_.predict(X_test)\n",
    "print(classification_report(y_test, y_hat))"
   ]
  },
  {
   "cell_type": "markdown",
   "metadata": {},
   "source": [
    "# Logistic GAM Oversamp"
   ]
  },
  {
   "cell_type": "code",
   "execution_count": 250,
   "metadata": {},
   "outputs": [],
   "source": [
    "try:\n",
    "    lgam_os= pickle.load(open('lgam_2_os.sav','rb'))\n",
    "except:\n",
    "    lgam_os =LogisticGAM()\n",
    "    lgam_os.fit(X_train_oversamp, y_train_oversamp)\n",
    "    pickle.dump(lgam_os, open('lgam_2_os.sav','wb'))"
   ]
  },
  {
   "cell_type": "code",
   "execution_count": 251,
   "metadata": {},
   "outputs": [
    {
     "name": "stdout",
     "output_type": "stream",
     "text": [
      "              precision    recall  f1-score   support\n",
      "\n",
      "           0       0.77      1.00      0.87      3643\n",
      "           1       0.60      0.00      0.01      1104\n",
      "\n",
      "   micro avg       0.77      0.77      0.77      4747\n",
      "   macro avg       0.68      0.50      0.44      4747\n",
      "weighted avg       0.73      0.77      0.67      4747\n",
      "\n"
     ]
    }
   ],
   "source": [
    "y_hat = lgam_os.predict(X_test)\n",
    "print(classification_report(y_test, y_hat))"
   ]
  },
  {
   "cell_type": "markdown",
   "metadata": {},
   "source": [
    "# Log Reg Oversampled"
   ]
  },
  {
   "cell_type": "code",
   "execution_count": 252,
   "metadata": {},
   "outputs": [
    {
     "data": {
      "text/plain": [
       "{'C': 0.1, 'fit_intercept': True, 'penalty': 'l1'}"
      ]
     },
     "execution_count": 252,
     "metadata": {},
     "output_type": "execute_result"
    }
   ],
   "source": [
    "grid={\"C\":np.logspace(-3,3,7), \"penalty\":[\"l1\",\"l2\"], \"fit_intercept\":[True,False]}# l1 lasso l2 ridge\n",
    "logreg=LogisticRegression(random_state=3504)\n",
    "logreg_cv_os=GridSearchCV(logreg,grid,cv=5, scoring='f1', n_jobs=-1)\n",
    "logreg_cv_os.fit(X_train_oversamp,y_train_oversamp)\n",
    "logreg_cv_os.best_params_"
   ]
  },
  {
   "cell_type": "code",
   "execution_count": 253,
   "metadata": {},
   "outputs": [
    {
     "name": "stdout",
     "output_type": "stream",
     "text": [
      "              precision    recall  f1-score   support\n",
      "\n",
      "           0       0.93      0.62      0.75      3643\n",
      "           1       0.40      0.84      0.55      1104\n",
      "\n",
      "   micro avg       0.67      0.67      0.67      4747\n",
      "   macro avg       0.67      0.73      0.65      4747\n",
      "weighted avg       0.81      0.67      0.70      4747\n",
      "\n"
     ]
    }
   ],
   "source": [
    "y_hat = logreg_cv_os.best_estimator_.predict(X_test)\n",
    "print(classification_report(y_test, y_hat))"
   ]
  },
  {
   "cell_type": "markdown",
   "metadata": {},
   "source": [
    "# Decision Tree Oversampled"
   ]
  },
  {
   "cell_type": "code",
   "execution_count": 254,
   "metadata": {},
   "outputs": [],
   "source": [
    "voting_rf_os = RandomForestClassifier(oob_score=True, random_state=3504).fit(X_train_oversamp, y_train_oversamp)"
   ]
  },
  {
   "cell_type": "code",
   "execution_count": 255,
   "metadata": {},
   "outputs": [
    {
     "name": "stdout",
     "output_type": "stream",
     "text": [
      "              precision    recall  f1-score   support\n",
      "\n",
      "           0       0.80      0.93      0.86      3643\n",
      "           1       0.50      0.22      0.31      1104\n",
      "\n",
      "   micro avg       0.77      0.77      0.77      4747\n",
      "   macro avg       0.65      0.58      0.58      4747\n",
      "weighted avg       0.73      0.77      0.73      4747\n",
      "\n"
     ]
    }
   ],
   "source": [
    "print(classification_report(y_test, voting_rf.predict(X_test)))"
   ]
  },
  {
   "cell_type": "code",
   "execution_count": 256,
   "metadata": {},
   "outputs": [],
   "source": [
    "# Random Search\n",
    "rf = RandomForestClassifier()\n",
    "\n",
    "\n",
    "try:\n",
    "    rf_random_os = pickle.load(open('rf_random_os.sav','rb'))\n",
    "except:\n",
    "    rf_random_os = RandomizedSearchCV(estimator = rf, param_distributions = random_grid, n_iter = 50, cv = 2, verbose=2, random_state=42, n_jobs = -1)\n",
    "    rf_random_os.fit(X_train_oversamp, y_train_oversamp)\n",
    "    pickle.dump(rf_random,open('rf_random_os.sav','wb'))\n",
    "\n"
   ]
  },
  {
   "cell_type": "code",
   "execution_count": 257,
   "metadata": {},
   "outputs": [
    {
     "name": "stdout",
     "output_type": "stream",
     "text": [
      "              precision    recall  f1-score   support\n",
      "\n",
      "           0       0.81      0.95      0.87      3643\n",
      "           1       0.60      0.24      0.35      1104\n",
      "\n",
      "   micro avg       0.79      0.79      0.79      4747\n",
      "   macro avg       0.70      0.60      0.61      4747\n",
      "weighted avg       0.76      0.79      0.75      4747\n",
      "\n"
     ]
    }
   ],
   "source": [
    "rf_random_os.best_params_\n",
    "y_hat = rf_random_os.best_estimator_.predict(X_test)\n",
    "print(classification_report(y_test, y_hat))"
   ]
  },
  {
   "cell_type": "markdown",
   "metadata": {},
   "source": [
    "# Voting Classifier\n",
    "\n",
    "Tenemos excelentes resultados en la clase 0, pero no tan buenos en la clase 1, con un Voting Classifier veremos si podemos encontrar lo mejor de ambos"
   ]
  },
  {
   "cell_type": "code",
   "execution_count": 258,
   "metadata": {},
   "outputs": [],
   "source": [
    "estimators3 = [('LLogistic Regression', logreg_cv_os.best_estimator_),\n",
    "              \n",
    "              ('Random Forest', rf_random.best_estimator_ )\n",
    "               #,('Decision Tree', dec_tree_grid_cv_os.best_estimator_)\n",
    "              ]"
   ]
  },
  {
   "cell_type": "code",
   "execution_count": 259,
   "metadata": {},
   "outputs": [],
   "source": [
    "voting_classifier = VotingClassifier(estimators3,voting='soft').fit(X_train_oversamp, y_train_oversamp)"
   ]
  },
  {
   "cell_type": "code",
   "execution_count": 260,
   "metadata": {},
   "outputs": [
    {
     "name": "stdout",
     "output_type": "stream",
     "text": [
      "              precision    recall  f1-score   support\n",
      "\n",
      "           0       0.90      0.70      0.79      3643\n",
      "           1       0.43      0.74      0.55      1104\n",
      "\n",
      "   micro avg       0.71      0.71      0.71      4747\n",
      "   macro avg       0.67      0.72      0.67      4747\n",
      "weighted avg       0.79      0.71      0.73      4747\n",
      "\n"
     ]
    }
   ],
   "source": [
    "y_hat = voting_classifier.predict(X_test)\n",
    "print(classification_report(y_test, y_hat))"
   ]
  },
  {
   "cell_type": "markdown",
   "metadata": {},
   "source": [
    "### Serializamos los mejores modelos\n",
    "\n"
   ]
  },
  {
   "cell_type": "code",
   "execution_count": 261,
   "metadata": {},
   "outputs": [],
   "source": [
    "pickle.dump(logreg_cv_os.best_estimator_,open('ecallejas-modelo-1.sav','wb')) # Reg Log oversampleada\n",
    "pickle.dump(voting_classifier,open('ecallejas-modelo-2.sav','wb')) # Voting Classifier \n"
   ]
  },
  {
   "cell_type": "code",
   "execution_count": null,
   "metadata": {},
   "outputs": [],
   "source": []
  },
  {
   "cell_type": "code",
   "execution_count": null,
   "metadata": {},
   "outputs": [],
   "source": []
  }
 ],
 "metadata": {
  "kernelspec": {
   "display_name": "Python 3",
   "language": "python",
   "name": "python3"
  },
  "language_info": {
   "codemirror_mode": {
    "name": "ipython",
    "version": 3
   },
   "file_extension": ".py",
   "mimetype": "text/x-python",
   "name": "python",
   "nbconvert_exporter": "python",
   "pygments_lexer": "ipython3",
   "version": "3.6.7"
  }
 },
 "nbformat": 4,
 "nbformat_minor": 2
}
