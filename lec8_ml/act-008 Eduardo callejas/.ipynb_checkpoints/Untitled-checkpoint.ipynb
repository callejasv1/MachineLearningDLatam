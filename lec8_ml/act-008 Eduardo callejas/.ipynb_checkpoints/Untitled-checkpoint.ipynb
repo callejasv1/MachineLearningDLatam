{
 "cells": [
  {
   "cell_type": "markdown",
   "metadata": {},
   "source": [
    "# Actividad 8 - Random Forest\n",
    "- Para poder realizar esta actividad debes haber revisado la lectura correspondiente a la semana.\n",
    "- Crea una carpeta de trabajo y guarda todos los archivos correspondientes (notebook y csv). Una vez terminada la actividad, comprime la carpeta y sube el .zip a la sección correspondiente."
   ]
  },
  {
   "cell_type": "markdown",
   "metadata": {},
   "source": [
    "# Descripción de Actividades\n",
    "- Para esta sesión trabajaremos con una base de datos sobre los precios de inmuebles en la ciudad de Ames, Iowa. - La base se compone de 2930 registros y contiene un gran número de atributos.\n",
    "- Nuestro objetivo es generar un modelo que prediga de forma adecuada los precios de inmuebles, medidos con la variable *Sale_Price.* \n",
    "- A diferencia de otras sesiones donde implementábamos el preprocesamiento a mano, ahora haremos uso de los archivos serializados en la sesión pasada."
   ]
  },
  {
   "cell_type": "markdown",
   "metadata": {},
   "source": [
    "# Desafío 1: Preparación del ambiente de trabajo\n",
    "- Importe las librerías clásicas a utilizar.\n",
    "- Para este ejercicio Random Forest de Regresión\n",
    "- De manera adicional importe las funciones y clases necesarias para generar un desempeño de métricas en problemas de regresión.\n",
    "- Elimine la columna 'Unnamed: 0' cuando cargue los datos."
   ]
  },
  {
   "cell_type": "code",
   "execution_count": 44,
   "metadata": {},
   "outputs": [],
   "source": [
    "import pandas as pd\n",
    "import numpy as np\n",
    "import seaborn as sns\n",
    "import lec8_graphs as afx\n",
    "import matplotlib.pyplot as plt\n",
    "from sklearn.tree import DecisionTreeRegressor\n",
    "from sklearn.model_selection import  train_test_split\n",
    "from sklearn.model_selection import GridSearchCV\n",
    "from sklearn.model_selection import ParameterGrid\n",
    "\n",
    "import pickle\n",
    "from sklearn.metrics import mean_squared_error, median_absolute_error, r2_score\n",
    "from sklearn.ensemble import RandomForestRegressor\n"
   ]
  },
  {
   "cell_type": "markdown",
   "metadata": {},
   "source": [
    "df = pd.read_csv('ames_housing.csv').drop(columns='Unnamed: 0')"
   ]
  },
  {
   "cell_type": "code",
   "execution_count": 12,
   "metadata": {},
   "outputs": [],
   "source": [
    "X_test = pickle.load(open('callejas_X_test.sav','rb'))\n",
    "y_test = pickle.load(open('callejas_y_test.sav','rb'))\n",
    "X_train = pickle.load(open('callejas_X_train.sav','rb'))\n",
    "y_train = pickle.load(open('callejas_y_train.sav','rb'))\n"
   ]
  },
  {
   "cell_type": "code",
   "execution_count": 20,
   "metadata": {},
   "outputs": [
    {
     "name": "stderr",
     "output_type": "stream",
     "text": [
      "/anaconda3/lib/python3.6/site-packages/sklearn/base.py:311: UserWarning: Trying to unpickle estimator DecisionTreeRegressor from version 0.20.2 when using version 0.19.1. This might lead to breaking code or invalid results. Use at your own risk.\n",
      "  UserWarning)\n"
     ]
    }
   ],
   "source": [
    "dec_tree = pickle.load(open('eduardo-callejas-actividad07.sav','rb'))\n",
    "dec_tree_christian = pickle.load(open('christian-gomez-actividad07.sav','rb'))"
   ]
  },
  {
   "cell_type": "code",
   "execution_count": 17,
   "metadata": {},
   "outputs": [
    {
     "data": {
      "text/plain": [
       "DecisionTreeRegressor(criterion='mse', max_depth=8, max_features=4,\n",
       "           max_leaf_nodes=None, min_impurity_decrease=0.0,\n",
       "           min_impurity_split=None, min_samples_leaf=1,\n",
       "           min_samples_split=2, min_weight_fraction_leaf=0.0,\n",
       "           presort=False, random_state=3504, splitter='best')"
      ]
     },
     "execution_count": 17,
     "metadata": {},
     "output_type": "execute_result"
    }
   ],
   "source": [
    "modelo"
   ]
  },
  {
   "cell_type": "code",
   "execution_count": 21,
   "metadata": {},
   "outputs": [
    {
     "name": "stdout",
     "output_type": "stream",
     "text": [
      "Test RMSE: 39421.71680378101\n",
      "Test MAE: 15956.69643\n",
      "Test R2: 0.77642\n"
     ]
    }
   ],
   "source": [
    "dec_tree.fit(X_train, y_train)\n",
    "print(\"Test RMSE:\", np.sqrt(mean_squared_error(y_test, dec_tree.predict(X_test)).round(5)))\n",
    "print(\"Test MAE:\", median_absolute_error(y_test, dec_tree.predict(X_test)).round(5))\n",
    "print(\"Test R2:\", r2_score(y_test, dec_tree.predict(X_test)).round(5))"
   ]
  },
  {
   "cell_type": "code",
   "execution_count": 22,
   "metadata": {},
   "outputs": [
    {
     "name": "stdout",
     "output_type": "stream",
     "text": [
      "Test RMSE: 36777.602148116865\n",
      "Test MAE: 15435.03846\n",
      "Test R2: 0.80541\n"
     ]
    }
   ],
   "source": [
    "dec_tree_christian.fit(X_train, y_train)\n",
    "print(\"Test RMSE:\", np.sqrt(mean_squared_error(y_test, dec_tree_christian.predict(X_test)).round(5)))\n",
    "print(\"Test MAE:\", median_absolute_error(y_test, dec_tree_christian.predict(X_test)).round(5))\n",
    "print(\"Test R2:\", r2_score(y_test, dec_tree_christian.predict(X_test)).round(5))"
   ]
  },
  {
   "cell_type": "markdown",
   "metadata": {},
   "source": [
    "El modelode Christian es mejor"
   ]
  },
  {
   "cell_type": "markdown",
   "metadata": {},
   "source": [
    "# Desafío 3: Evaluación Random Forest\n",
    "- En base a los conjuntos de entrenamiento serializados, genere un modelo utilizando\n",
    "sklearn.ensemble.RandomForest sin modificar hiperparámetros, sólo declarando la semilla pseudoaleatoria.\n",
    "- Reporte su desempeño y compárelo con su modelo de la sesión pasada, así como con el de su compañero."
   ]
  },
  {
   "cell_type": "code",
   "execution_count": 24,
   "metadata": {},
   "outputs": [],
   "source": [
    "random_forest = RandomForestRegressor(random_state=3504)"
   ]
  },
  {
   "cell_type": "code",
   "execution_count": 25,
   "metadata": {},
   "outputs": [
    {
     "data": {
      "text/plain": [
       "RandomForestRegressor(bootstrap=True, criterion='mse', max_depth=None,\n",
       "           max_features='auto', max_leaf_nodes=None,\n",
       "           min_impurity_decrease=0.0, min_impurity_split=None,\n",
       "           min_samples_leaf=1, min_samples_split=2,\n",
       "           min_weight_fraction_leaf=0.0, n_estimators=10, n_jobs=1,\n",
       "           oob_score=False, random_state=3504, verbose=0, warm_start=False)"
      ]
     },
     "execution_count": 25,
     "metadata": {},
     "output_type": "execute_result"
    }
   ],
   "source": [
    "random_forest.fit(X_train, y_train)"
   ]
  },
  {
   "cell_type": "code",
   "execution_count": 26,
   "metadata": {},
   "outputs": [
    {
     "name": "stdout",
     "output_type": "stream",
     "text": [
      "Test RMSE: 29123.607051264957\n",
      "Test MAE: 12500.0\n",
      "Test R2: 0.87797\n"
     ]
    }
   ],
   "source": [
    "print(\"Test RMSE:\", np.sqrt(mean_squared_error(y_test, random_forest.predict(X_test)).round(5)))\n",
    "print(\"Test MAE:\", median_absolute_error(y_test, random_forest.predict(X_test)).round(5))\n",
    "print(\"Test R2:\", r2_score(y_test, random_forest.predict(X_test)).round(5))"
   ]
  },
  {
   "cell_type": "markdown",
   "metadata": {},
   "source": [
    "Random Forest tiene mejores metricas que ambos modelos, sin modificar sus hiperparametros"
   ]
  },
  {
   "cell_type": "markdown",
   "metadata": {},
   "source": [
    "# Desafío 4: Reporte las métricas de desempeño con los siguientes hiperparámetros\n",
    "- Para afinar el comportamiento de nuestro modelo, evalúe su desempeño los siguientes hiperparámetros: \n",
    "\n",
    "    - max_features: None, log2, sqrt.\n",
    "    - n_estimators: Evaluar entre 20 y 1000 en pasos de 50. Guarde la tasa de error en la exactitud medida con OOB.  \n",
    "    \n",
    "- Grafique el comportamiento."
   ]
  },
  {
   "cell_type": "code",
   "execution_count": 68,
   "metadata": {},
   "outputs": [],
   "source": [
    "# generamos una serie de listas para guardar los valores\n",
    "tmp_oob_none, tmp_oob_sqrt,tmp_oob_log2 = [], [], []\n",
    "tmp_test_acc_none, tmp_test_acc_sqrt, tmp_test_acc_log = [], [], []\n",
    "n_estimators = range(20, 1000, 50)"
   ]
  },
  {
   "cell_type": "code",
   "execution_count": 69,
   "metadata": {},
   "outputs": [],
   "source": [
    "# para cada rango de modelos estimados\n",
    "for i in n_estimators:\n",
    "    # Implementamos una variante con todos los atributos\n",
    "    voting_rf_none = RandomForestRegressor(n_estimators= i,max_features=None,\n",
    "                                       oob_score=True,\n",
    "                                       random_state=3504).fit(X_train, y_train)\n",
    "    # Implementamos una variante donde los atributos se escogen con sqrt\n",
    "    voting_rf_sqrt = RandomForestRegressor(n_estimators= i, max_features=\"sqrt\",\n",
    "                               \n",
    "                               oob_score=True,\n",
    "                               random_state=3504).fit(X_train, y_train)\n",
    "    # Implementamos una variante donde los atributos se escogen con log\n",
    "    voting_rf_log = RandomForestRegressor(n_estimators= i, max_features=\"log2\",\n",
    "                               \n",
    "                               oob_score=True,\n",
    "                               random_state=3504).fit(X_train, y_train)\n",
    "    # Estimamos el error en OOB\n",
    "    tmp_oob_none.append(1 - voting_rf_none.oob_score_)\n",
    "    tmp_oob_sqrt.append(1 - voting_rf_sqrt.oob_score_)\n",
    "    tmp_oob_log2.append(1 - voting_rf_log.oob_score_)\n",
    "    tmp_test_acc_none.append(1 - r2_score(y_test, voting_rf_none.predict(X_test)))\n",
    "    tmp_test_acc_sqrt.append(1 - r2_score(y_test, voting_rf_sqrt.predict(X_test)))\n",
    "    tmp_test_acc_log.append(1 - r2_score(y_test, voting_rf_log.predict(X_test)))"
   ]
  },
  {
   "cell_type": "code",
   "execution_count": 70,
   "metadata": {},
   "outputs": [
    {
     "data": {
      "text/plain": [
       "<Figure size 864x288 with 0 Axes>"
      ]
     },
     "metadata": {},
     "output_type": "display_data"
    },
    {
     "data": {
      "image/png": "[encoded data removed]",
      "text/plain": [
       "<Figure size 432x288 with 3 Axes>"
      ]
     },
     "metadata": {
      "needs_background": "light"
     },
     "output_type": "display_data"
    }
   ],
   "source": [
    "plt.figure(figsize=(12, 4));\n",
    "fig, axs = plt.subplots(1, 3, sharex=True, sharey=True);\n",
    "axs[0].plot(tmp_oob_log2, '.-', label='OOB error rate');\n",
    "axs[0].plot(tmp_test_acc_log, '.-', label='R2 error rate');\n",
    "axs[0].set_title('Log2');\n",
    "axs[1].plot(tmp_oob_sqrt,'.-',  label='OOB error rate');\n",
    "axs[1].plot(tmp_test_acc_sqrt,'.-',  label='R2 error rate');\n",
    "axs[1].set_title('Squared Root');\n",
    "axs[2].plot(tmp_oob_none, '.-', label='OOB error rate');\n",
    "axs[2].plot(tmp_test_acc_none,'.-',  label='R2 error rate');\n",
    "axs[2].set_title('None');\n",
    "plt.tight_layout();\n",
    "plt.legend();\n",
    "\n"
   ]
  },
  {
   "cell_type": "markdown",
   "metadata": {},
   "source": [
    "Log 2 y SQRT dan valores similares, la maxima eficiencia se da en max_estimator = 70 o 120."
   ]
  },
  {
   "cell_type": "code",
   "execution_count": 83,
   "metadata": {},
   "outputs": [],
   "source": [
    "random_forest = RandomForestRegressor(random_state=3504, n_estimators = 120, max_features=\"sqrt\")"
   ]
  },
  {
   "cell_type": "code",
   "execution_count": 84,
   "metadata": {},
   "outputs": [
    {
     "name": "stdout",
     "output_type": "stream",
     "text": [
      "Test RMSE: 27866.065620687827\n",
      "Test MAE: 12199.58333\n",
      "Test R2: 0.88829\n"
     ]
    }
   ],
   "source": [
    "random_forest.fit(X_train, y_train)\n",
    "print(\"Test RMSE:\", np.sqrt(mean_squared_error(y_test, random_forest.predict(X_test)).round(5)))\n",
    "print(\"Test MAE:\", median_absolute_error(y_test, random_forest.predict(X_test)).round(5))\n",
    "print(\"Test R2:\", r2_score(y_test, random_forest.predict(X_test)).round(5))"
   ]
  },
  {
   "cell_type": "markdown",
   "metadata": {},
   "source": [
    "EL modelo mejora en todas sus métricas nuevamente, aunque cada vez la mejora es menor."
   ]
  },
  {
   "cell_type": "code",
   "execution_count": null,
   "metadata": {},
   "outputs": [],
   "source": []
  }
 ],
 "metadata": {
  "kernelspec": {
   "display_name": "Python 3",
   "language": "python",
   "name": "python3"
  },
  "language_info": {
   "codemirror_mode": {
    "name": "ipython",
    "version": 3
   },
   "file_extension": ".py",
   "mimetype": "text/x-python",
   "name": "python",
   "nbconvert_exporter": "python",
   "pygments_lexer": "ipython3",
   "version": "3.6.7"
  }
 },
 "nbformat": 4,
 "nbformat_minor": 2
}
