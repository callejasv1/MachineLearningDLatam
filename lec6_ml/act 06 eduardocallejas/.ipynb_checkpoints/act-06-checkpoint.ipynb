{
 "cells": [
  {
   "cell_type": "markdown",
   "metadata": {},
   "source": [
    "# Actividad 6 - Inferencia de Tópicos con EM\n",
    "- Para poder realizar esta actividad debes haber revisado la lectura correspondiente a la semana.\n",
    "- Crea una carpeta de trabajo y guarda todos los archivos correspondientes (notebook y csv). Una vez terminada la actibidad, comprime la carpeta y sube el .zip"
   ]
  },
  {
   "cell_type": "markdown",
   "metadata": {},
   "source": [
    "## Descripción de Actividades\n",
    "- En esta sesión trabajaremos con una serie de base de datos sobre letras musicales de distintos artistas. Cada uno de los csv se encuentra en la carpeta dump .\n",
    "- Cada csv tiene el nombre del artista a analizar. Los archivos contienen el nombre del artista, el género musical del artista, el nombre de la canción y las letras.\n",
    "- En base a esta información, el objetivo del ejercicio es generar un modelo probabilístico que pueda identificar el género musical más probable dado la letra de una canción.\n",
    "- Para ello implementaremos un modelo conocido como Latent Dirichlet Allocation que hace uso de una variante del algoritmo EM para inferir clases latentes a partir de una matriz de documentos."
   ]
  },
  {
   "cell_type": "markdown",
   "metadata": {},
   "source": [
    "## Desafío 1: Preparar el ambiente de trabajo\n",
    "- Importe los módulos numpy , pandas , matplotlib , seaborn , glob y os siguiendo las buenas prácticas. Los últimos dos módulos permitirán realizar la importación de múltiples archivos dentro de la carpeta dump .\n",
    "- Para ello genere un objeto que guarde en una lista todos los archivos alojados en dump utilizando y para extraer las rutas absolutas. Posteriormente genere un objeto que contenga todos los csv.\n",
    "- Asegúrese de eliminar la columna Unnamed: 0 que se genera por defecto."
   ]
  },
  {
   "cell_type": "code",
   "execution_count": 1,
   "metadata": {},
   "outputs": [],
   "source": [
    "import pandas as pd\n",
    "import numpy as np\n",
    "import matplotlib.pyplot as plt\n",
    "import glob, os\n",
    "import seaborn as sns\n",
    "import helpers\n",
    "from sklearn.feature_extraction.text import CountVectorizer\n",
    "from sklearn.model_selection import train_test_split\n",
    "from sklearn.pipeline import Pipeline\n",
    "\n",
    "\n",
    "\n"
   ]
  },
  {
   "cell_type": "code",
   "execution_count": 2,
   "metadata": {},
   "outputs": [],
   "source": [
    "file_list = glob.glob(os.getcwd()+'/data/*.csv')\n",
    "\n",
    "append_csv = []\n",
    "for f in file_list:\n",
    "    append_csv.append(pd.read_csv(f, index_col=None, header=0).drop(columns='Unnamed: 0'))\n",
    "\n",
    "\n",
    "df_lyrics = pd.concat(append_csv)\n",
    "df_lyrics.columns = ['Artist', 'Genre', 'Song', 'Lyrics']    "
   ]
  },
  {
   "cell_type": "code",
   "execution_count": 3,
   "metadata": {},
   "outputs": [
    {
     "data": {
      "text/plain": [
       "array(['Public Enemy', 'Mayhem', 'Raekwon', 'Pharrell Williams',\n",
       "       'Immortal', 'Kendrick Lamar', 'Nicki Minaj', 'Queen', 'Radiohead',\n",
       "       'Iron Maiden', 'Method Man', 'Incubus', 'The Smashing Pumpkins',\n",
       "       'Sam Smith', 'Oasis', 'Bruce Springsteen', 'System of a Down',\n",
       "       'Faith No More', 'Frank Ocean', 'Spice Girls', 'Mobb Deep', 'Tool',\n",
       "       'Cannibal Corpse', 'Black Star', 'Megadeth', 'Ghostface Killah',\n",
       "       'Britney Spears', 'Anthrax', 'Led Zeppelin', 'Kanye West',\n",
       "       'The Weeknd', 'Killer Mike', 'Opeth', 'Carly Rae Jepsen',\n",
       "       'Rage Against The Machine', 'The Smiths', 'Usher', 'Five', 'Rush',\n",
       "       'Gorgoroth', 'Lorde', 'SIA', 'New Kids On The Block', 'Metallica',\n",
       "       'Eminem', 'The Doors', 'Slayer', 'Christina Aguilera', 'The Clash',\n",
       "       'Modest Mouse', 'A Tribe Called Quest', 'Pink Floyd', 'Deicide',\n",
       "       'Kiss', 'MF Doom', 'Necrophagist', 'Bob Dylan',\n",
       "       'Justin Timberlake', 'Weezer', 'Dua Lipa', 'Dr. Dre',\n",
       "       'Backstreet Boys', 'Michael Jackson', 'De La Soul',\n",
       "       'George Michael', 'Nickelback', 'Red Hot Chili Peppers',\n",
       "       'Meshuggah', 'The Beatles', 'Ariana Grande', 'Vital Remains',\n",
       "       'Mos Def'], dtype=object)"
      ]
     },
     "execution_count": 3,
     "metadata": {},
     "output_type": "execute_result"
    }
   ],
   "source": [
    "df_lyrics['Artist'].unique()"
   ]
  },
  {
   "cell_type": "markdown",
   "metadata": {},
   "source": [
    "## Desafío 2: Matriz de ocurrencias\n",
    "- Importe la clase dentro de los módulos feature_extraction.text de la librería .\n",
    "- Aplique la clase para extraer las 5000 palabras más repetidas en toda la base de datos.\n",
    "- Con la clase inicializada, incorpore las letras con el método fit_transform y guarde los resultados en un nuevo objeto"
   ]
  },
  {
   "cell_type": "code",
   "execution_count": 4,
   "metadata": {},
   "outputs": [],
   "source": [
    "cv = CountVectorizer(stop_words='english',max_features=5000)\n",
    "cv_fit = cv.fit_transform(df_lyrics['Lyrics'])\n",
    "\n"
   ]
  },
  {
   "cell_type": "markdown",
   "metadata": {},
   "source": [
    "## Desafío 3: Entrenamiento del Modelo\n",
    "- Importe sklearn.decomposition.LatentDirichletAllocation y sklearn.model_selection.GridSearchCV .\n",
    "- Genere una búsqueda de grilla con los siguientes hiperparámetros:\n",
    "    - n components [5, 10, 15]\n",
    "    - learning_decay: [0.7, 0.5] .\n",
    "- Entrene la búsqueda de grilla con las letras en un formato vectorizado con CountVectorizer .\n",
    "- Reporte brevemente cuál es la mejor combinación de hiperparámetros."
   ]
  },
  {
   "cell_type": "code",
   "execution_count": 5,
   "metadata": {},
   "outputs": [],
   "source": [
    "from sklearn.decomposition import LatentDirichletAllocation\n",
    "from sklearn.model_selection import GridSearchCV"
   ]
  },
  {
   "cell_type": "code",
   "execution_count": 6,
   "metadata": {},
   "outputs": [],
   "source": [
    "params = {'n_components':[5,10,15],'learning_decay':[0.5, 0.7]}\n",
    "n = .33\n",
    "seed = 3504"
   ]
  },
  {
   "cell_type": "code",
   "execution_count": 7,
   "metadata": {},
   "outputs": [],
   "source": [
    "X_hold_in, X_hold_out, y_hold_in, y_hold_out = train_test_split(df_lyrics[['Lyrics','Artist','Song']], df_lyrics['Genre'], test_size=n,\n",
    "                                                               random_state=seed)\n",
    "\n",
    "X_train, X_test, y_train, y_test = train_test_split(X_hold_in, y_hold_in, test_size=n,random_state=seed)\n",
    "\n",
    "hold_in_counter = CountVectorizer(stop_words='english', max_df=.1, max_features=5000)\n",
    "hold_in_transformed_features = hold_in_counter.fit_transform(X_hold_in['Lyrics'])\n",
    "\n",
    "hold_out_counter = CountVectorizer(stop_words='english', max_df=.1, max_features=5000)\n",
    "hold_out_transformed_features = hold_out_counter.fit_transform(X_hold_out['Lyrics'])\n",
    "\n",
    "train_counter = CountVectorizer(stop_words='english', max_df=.1, max_features=5000)\n",
    "train_transformed_feats = train_counter.fit_transform(X_train['Lyrics'])\n",
    "test_counter = CountVectorizer(stop_words='english', max_df=.1, max_features=5000)\n",
    "test_transformed_feats = test_counter.fit_transform(X_test['Lyrics'])"
   ]
  },
  {
   "cell_type": "code",
   "execution_count": 8,
   "metadata": {},
   "outputs": [
    {
     "name": "stderr",
     "output_type": "stream",
     "text": [
      "/anaconda3/lib/python3.6/site-packages/sklearn/model_selection/_split.py:2053: FutureWarning: You should specify a value for 'cv' instead of relying on the default value. The default value will change from 3 to 5 in version 0.22.\n",
      "  warnings.warn(CV_WARNING, FutureWarning)\n"
     ]
    }
   ],
   "source": [
    "search_params = {'n_components': [5, 10, 15], 'learning_decay': [0.7, 0.5]}\n",
    "cv_lda_model = GridSearchCV(\n",
    "    LatentDirichletAllocation(learning_method='online'),\n",
    "    param_grid = search_params,\n",
    "    n_jobs=-1).fit(hold_in_transformed_features)\n"
   ]
  },
  {
   "cell_type": "code",
   "execution_count": 9,
   "metadata": {},
   "outputs": [
    {
     "data": {
      "text/plain": [
       "{'learning_decay': 0.7, 'n_components': 5}"
      ]
     },
     "execution_count": 9,
     "metadata": {},
     "output_type": "execute_result"
    }
   ],
   "source": [
    "cv_lda_model.best_params_"
   ]
  },
  {
   "cell_type": "markdown",
   "metadata": {},
   "source": [
    "## Desafío 4 : Inferencia e Identificación de Tópicos\n",
    "- En base a la mejor combinación de hiperparámetros, entrene el modelo con la matriz de atributos de las letras.\n",
    "- Para identificar de qué se trata cada tópico, necesitamos identificar las principales 15 palabras asociadas con éste. Puede implementar la siguiente línea de código para identificar las principales palabras en un tópico:\n",
    "- Comente a qué tópicos está asociada cada clase inferida."
   ]
  },
  {
   "cell_type": "code",
   "execution_count": 10,
   "metadata": {},
   "outputs": [],
   "source": [
    "best_lda = cv_lda_model.best_estimator_\n"
   ]
  },
  {
   "cell_type": "code",
   "execution_count": 11,
   "metadata": {},
   "outputs": [
    {
     "name": "stdout",
     "output_type": "stream",
     "text": [
      "Tópico: 0\n",
      " work\t\n",
      "dance\t\n",
      "girls\t\n",
      "talk\t\n",
      "crazy\t\n",
      "whoa\t\n",
      "friends\t\n",
      "walk\t\n",
      "body\t\n",
      "beat\t\n",
      "hot\t\n",
      "party\t\n",
      "bout\t\n",
      "floor\t\n",
      "car\t\n",
      "seen\t\n",
      "boys\t\n",
      "game\t\n",
      "young\t\n",
      "didn\n",
      "Tópico: 1\n",
      " niggas\t\n",
      "uh\t\n",
      "niggaz\t\n",
      "ma\t\n",
      "wit\t\n",
      "rap\t\n",
      "fuckin\t\n",
      "gon\t\n",
      "bitches\t\n",
      "huh\t\n",
      "pop\t\n",
      "son\t\n",
      "da\t\n",
      "verse\t\n",
      "chorus\t\n",
      "gun\t\n",
      "check\t\n",
      "rock\t\n",
      "eminem\t\n",
      "shot\n",
      "Tópico: 2\n",
      " la\t\n",
      "blood\t\n",
      "death\t\n",
      "kill\t\n",
      "war\t\n",
      "pain\t\n",
      "hell\t\n",
      "hate\t\n",
      "alive\t\n",
      "evil\t\n",
      "lord\t\n",
      "fear\t\n",
      "body\t\n",
      "bit\t\n",
      "human\t\n",
      "men\t\n",
      "mi\t\n",
      "flesh\t\n",
      "fight\t\n",
      "killing\n",
      "Tópico: 3\n",
      " sun\t\n",
      "coming\t\n",
      "fall\t\n",
      "dream\t\n",
      "forever\t\n",
      "lost\t\n",
      "wish\t\n",
      "change\t\n",
      "sky\t\n",
      "true\t\n",
      "free\t\n",
      "comes\t\n",
      "knew\t\n",
      "yes\t\n",
      "wrong\t\n",
      "stand\t\n",
      "somebody\t\n",
      "remember\t\n",
      "words\t\n",
      "rain\n",
      "Tópico: 4\n",
      " ooh\t\n",
      "ah\t\n",
      "tonight\t\n",
      "ha\t\n",
      "rock\t\n",
      "everybody\t\n",
      "na\t\n",
      "roll\t\n",
      "mama\t\n",
      "alright\t\n",
      "round\t\n",
      "song\t\n",
      "babe\t\n",
      "wants\t\n",
      "moment\t\n",
      "ready\t\n",
      "future\t\n",
      "bye\t\n",
      "woman\t\n",
      "body\n"
     ]
    }
   ],
   "source": [
    "helpers.identify_words_associated(best_lda,\n",
    "                                  hold_in_counter,\n",
    "                                  20)"
   ]
  },
  {
   "cell_type": "markdown",
   "metadata": {},
   "source": [
    "- Topico 0: Debido al uso de palabras violentas, y sobre el bien y el mal, podría ser genero **Metal**\n",
    "- Topico 1: Palabras cortas como \"la, ha, boom\" y algunas palabras en español: **Género Bailable con Influencias Latinas**\n",
    "- Topico 2: Amigos, noche, besos. **Musica de fogata**\n",
    "- Topico 3: Girls, tonight, everybody, dance: **Musica Bailable**\n",
    "- Topico 4: niggas, wit, rap: **HipHop**"
   ]
  },
  {
   "cell_type": "markdown",
   "metadata": {},
   "source": [
    "## Desafío 5: Identificación de probabilidades\n",
    "- En base a la información generada, es posible identificar cuales van a ser los géneros más probables de ocurrir para un artista.\n",
    "- Para ello necesitamos guardar la probabilidad de cada canción en nuestra base de datos original. Podemos implementar esto de la siguiente manera:\n",
    "- Genere una matriz de correlaciones entre la probabilidad de tópicos inferidos. Comente brevemente cuales son las principales asociaciones existentes.\n",
    "- Con esta nueva base de datos, identifique las probabilidades de pertenencia para un artista específico.\n",
    "- Grafique la distribución de las probabilidades para algún artista en específico."
   ]
  },
  {
   "cell_type": "code",
   "execution_count": 12,
   "metadata": {},
   "outputs": [],
   "source": [
    "infer_df = helpers.identify_most_likely_topic(best_lda,hold_in_counter,\n",
    "                                              hold_in_transformed_features,\n",
    "                                              X_hold_in)"
   ]
  },
  {
   "cell_type": "code",
   "execution_count": 13,
   "metadata": {},
   "outputs": [
    {
     "data": {
      "image/png": "[encoded data removed]",
      "text/plain": [
       "<Figure size 432x288 with 2 Axes>"
      ]
     },
     "metadata": {
      "needs_background": "light"
     },
     "output_type": "display_data"
    }
   ],
   "source": [
    "helpers.correlate_lda_topics(infer_df)"
   ]
  },
  {
   "cell_type": "markdown",
   "metadata": {},
   "source": [
    "A grandes rasgos, el Topico 1 es el que presenta menor correlacion con los demas Topicos, por otro lado, el topico 2 es el que presenta una mayor similitud a los demàs topicos.\n",
    "Los topicos con menor correlacion son el 3('Musica de fogata') y el 5 ('Hip Hop')"
   ]
  },
  {
   "cell_type": "code",
   "execution_count": 14,
   "metadata": {},
   "outputs": [
    {
     "data": {
      "text/plain": [
       "Topic 1    0.178709\n",
       "Topic 4    0.332872\n",
       "Topic 5    0.067726\n",
       "Topic 2    0.082923\n",
       "Topic 3    0.337855\n",
       "dtype: float64"
      ]
     },
     "execution_count": 14,
     "metadata": {},
     "output_type": "execute_result"
    },
    {
     "data": {
      "image/png": "[encoded data removed]",
      "text/plain": [
       "<Figure size 720x864 with 5 Axes>"
      ]
     },
     "metadata": {
      "needs_background": "light"
     },
     "output_type": "display_data"
    }
   ],
   "source": [
    "plt.figure(figsize=(10, 12))\n",
    "infer_df['artist']=infer_df['Artist']\n",
    "helpers.report_artist_topic(infer_df, 'Anthrax')\n",
    "\n"
   ]
  },
  {
   "cell_type": "markdown",
   "metadata": {},
   "source": [
    "Anthrax se define claramente como Topico 1 \"Metal\""
   ]
  },
  {
   "cell_type": "code",
   "execution_count": null,
   "metadata": {},
   "outputs": [],
   "source": []
  }
 ],
 "metadata": {
  "kernelspec": {
   "display_name": "Python 3",
   "language": "python",
   "name": "python3"
  },
  "language_info": {
   "codemirror_mode": {
    "name": "ipython",
    "version": 3
   },
   "file_extension": ".py",
   "mimetype": "text/x-python",
   "name": "python",
   "nbconvert_exporter": "python",
   "pygments_lexer": "ipython3",
   "version": "3.6.7"
  }
 },
 "nbformat": 4,
 "nbformat_minor": 2
}
